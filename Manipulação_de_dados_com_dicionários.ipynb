{
  "nbformat": 4,
  "nbformat_minor": 0,
  "metadata": {
    "colab": {
      "name": "Manipulação de dados com dicionários",
      "provenance": [],
      "collapsed_sections": [
        "iNKyyMgWy9Bn",
        "tQnXT57dzP0U",
        "1Nw3OUJH0Eh8",
        "6xpt7RmE08GW",
        "7MYgjMrF1Q5o"
      ],
      "include_colab_link": true
    },
    "kernelspec": {
      "name": "python3",
      "display_name": "Python 3"
    },
    "language_info": {
      "name": "python"
    }
  },
  "cells": [
    {
      "cell_type": "markdown",
      "metadata": {
        "id": "view-in-github",
        "colab_type": "text"
      },
      "source": [
        "<a href=\"https://colab.research.google.com/github/r4skaren/python-tera/blob/main/Manipula%C3%A7%C3%A3o_de_dados_com_dicion%C3%A1rios.ipynb\" target=\"_parent\"><img src=\"https://colab.research.google.com/assets/colab-badge.svg\" alt=\"Open In Colab\"/></a>"
      ]
    },
    {
      "cell_type": "markdown",
      "metadata": {
        "id": "h3PXi1O8bT_9"
      },
      "source": [
        "# Manipulação de dados com dicionários"
      ]
    },
    {
      "cell_type": "markdown",
      "metadata": {
        "id": "iNKyyMgWy9Bn"
      },
      "source": [
        "## Conceito"
      ]
    },
    {
      "cell_type": "markdown",
      "metadata": {
        "id": "zkk2f_VGbcUs"
      },
      "source": [
        "A linguagem Python possue uma estrutura bastante utilizada para manipulação de dados. Esta estrutura se chama **dicionário**. Os dicionários são estruturas de dados que mapeiam **chaves** em **valores**.\n",
        "\n",
        "\n",
        "No exemplo a seguir temos um **dicionário** `'entretenimento'` uma **chave** ('séries') e seu respectivo **valor** (`['The Crown'`):\n",
        "\n",
        "```\n",
        "entretenimento = {'séries' : 'The Crown'}\n",
        "```\n"
      ]
    },
    {
      "cell_type": "code",
      "metadata": {
        "colab": {
          "base_uri": "https://localhost:8080/"
        },
        "id": "LhIrIGgM1Hc6",
        "outputId": "4b953913-5a65-4db7-b29b-bccc41dfe8c0"
      },
      "source": [
        "# Criando um novo dicionário\n",
        "entretenimento = {'séries' : 'The Crown'}\n",
        "\n",
        "# Imprimindo o conteúdo deste dicionário\n",
        "print(entretenimento)"
      ],
      "execution_count": null,
      "outputs": [
        {
          "output_type": "stream",
          "text": [
            "{'séries': 'The Crown'}\n"
          ],
          "name": "stdout"
        }
      ]
    },
    {
      "cell_type": "markdown",
      "metadata": {
        "id": "tQnXT57dzP0U"
      },
      "source": [
        "## Criação e Inicialização"
      ]
    },
    {
      "cell_type": "markdown",
      "metadata": {
        "id": "M8L0vFLwzUty"
      },
      "source": [
        "Os dicionários podem ser inicializados de duas formas:\n",
        "\n",
        "**Criando um dicionário através das `{}`:**\n",
        "\n",
        "```\n",
        "entretenimento = {'filmes' : 'Soul', 'séries' : 'The Crown'}\n",
        "```\n",
        "\n"
      ]
    },
    {
      "cell_type": "code",
      "metadata": {
        "id": "sAWQziCQSJi2",
        "colab": {
          "base_uri": "https://localhost:8080/"
        },
        "outputId": "8822c97f-5cdc-4498-ab45-d25ad16077b9"
      },
      "source": [
        "# Inicializando o dicionário com {}\n",
        "entretenimento = {'filmes' : 'Soul', 'séries' : 'The Crown'}\n",
        "\n",
        "# Imprimindo o conteúdo deste dicionário\n",
        "print(entretenimento)"
      ],
      "execution_count": null,
      "outputs": [
        {
          "output_type": "stream",
          "text": [
            "{'filmes': 'Soul', 'séries': 'The Crown'}\n"
          ],
          "name": "stdout"
        }
      ]
    },
    {
      "cell_type": "markdown",
      "metadata": {
        "id": "qBC66vKI7kpM"
      },
      "source": [
        "**Criando um dicionário através do `dict()`:**\n",
        "\n",
        "```\n",
        "entretenimento = dict([('filmes', 'Soul'), ('séries', 'The Crown')])\n",
        "```\n"
      ]
    },
    {
      "cell_type": "code",
      "metadata": {
        "colab": {
          "base_uri": "https://localhost:8080/"
        },
        "id": "hUjwxwrk1Fh4",
        "outputId": "7e30c6c4-e094-4abc-e41e-bbc396c5c363"
      },
      "source": [
        "# Inicializando o dicionário com o dict()\n",
        "entretenimento = dict([('filmes', 'Soul'), ('séries', 'The Crown'), ('livros', 'O Pequeno Príncipe')])\n",
        "\n",
        "# Imprimindo o conteúdo deste dicionário\n",
        "print(entretenimento)"
      ],
      "execution_count": null,
      "outputs": [
        {
          "output_type": "stream",
          "text": [
            "{'filmes': 'Soul', 'séries': 'The Crown', 'livros': 'O Pequeno Príncipe'}\n"
          ],
          "name": "stdout"
        }
      ]
    },
    {
      "cell_type": "markdown",
      "metadata": {
        "id": "1Nw3OUJH0Eh8"
      },
      "source": [
        "## Acesso aos elementos de um dicionário"
      ]
    },
    {
      "cell_type": "markdown",
      "metadata": {
        "id": "BiTV8utP0NOO"
      },
      "source": [
        "Os valores de um dicionário podem ser acessados de duas formas:\n",
        "\n",
        "**Acessando os elementos através da chave:**\n",
        "\n",
        "\n",
        "```\n",
        "print(entretenimento['livros'])\n",
        "```\n"
      ]
    },
    {
      "cell_type": "code",
      "metadata": {
        "colab": {
          "base_uri": "https://localhost:8080/"
        },
        "id": "gL-86qvO1EaJ",
        "outputId": "56f7acfa-1629-440b-f62f-5e8e85f9555f"
      },
      "source": [
        "# Inicializando o dicionário com o dict()\n",
        "entretenimento = dict([('filmes', 'Soul'), ('séries', 'The Crown'), ('livros', 'O Pequeno Príncipe')])\n",
        "\n",
        "# Imprimindo o conteúdo da chave 'livros'\n",
        "print(entretenimento['livros'])"
      ],
      "execution_count": null,
      "outputs": [
        {
          "output_type": "stream",
          "text": [
            "O Pequeno Príncipe\n"
          ],
          "name": "stdout"
        }
      ]
    },
    {
      "cell_type": "markdown",
      "metadata": {
        "id": "AT-el3bO8ASs"
      },
      "source": [
        "**Acessando os elementos através da função `get()`:**\n",
        "\n",
        "\n",
        "```\n",
        "print(entretenimento.get('livros'))\n",
        "```\n"
      ]
    },
    {
      "cell_type": "code",
      "metadata": {
        "colab": {
          "base_uri": "https://localhost:8080/",
          "height": 35
        },
        "id": "hgUjHb5t1DPi",
        "outputId": "38791daf-b4ae-4c85-a3db-7985bf7fdda1"
      },
      "source": [
        "# Inicializando o dicionário com o dict()\n",
        "entretenimento = dict([('filmes', 'Soul'), ('séries', 'The Crown'), ('livros', 'O Pequeno Príncipe')])\n",
        "\n",
        "# Imprimindo o conteúdo da chave 'livros' utilizando a função 'get'\n",
        "entretenimento.get('livros')"
      ],
      "execution_count": null,
      "outputs": [
        {
          "output_type": "execute_result",
          "data": {
            "application/vnd.google.colaboratory.intrinsic+json": {
              "type": "string"
            },
            "text/plain": [
              "'O Pequeno Príncipe'"
            ]
          },
          "metadata": {
            "tags": []
          },
          "execution_count": 5
        }
      ]
    },
    {
      "cell_type": "markdown",
      "metadata": {
        "id": "6xpt7RmE08GW"
      },
      "source": [
        "## Inserindo elementos em um dicionário"
      ]
    },
    {
      "cell_type": "markdown",
      "metadata": {
        "id": "qx_qzEzZ0_dK"
      },
      "source": [
        "Novos pares de `chave` e `valor` podem ser inseridos em um dicionário já existente.\n",
        "\n",
        "```\n",
        "entretenimento['cantoras'] = 'Taylor Swift'\n",
        "```\n",
        "\n"
      ]
    },
    {
      "cell_type": "code",
      "metadata": {
        "colab": {
          "base_uri": "https://localhost:8080/"
        },
        "id": "57hS0gfm1B07",
        "outputId": "4f0d1499-a9c5-4e1e-81aa-892e41d19233"
      },
      "source": [
        "# Inicializando o dicionário com o dict()\n",
        "entretenimento = dict([('filmes', 'Soul'), ('séries', 'The Crown'), ('livros', 'O Pequeno Príncipe')])\n",
        "\n",
        "# Imprimindo o conteúdo deste dicionário antes da inserção\n",
        "print('Antes:')\n",
        "print(entretenimento)\n",
        "\n",
        "# Inserindo um novo elemento neste dicionario\n",
        "entretenimento['cantoras'] = 'Taylor Swift'\n",
        "\n",
        "# Imprimindo o conteúdo deste dicionário após da inserção\n",
        "print('Depois:')\n",
        "print(entretenimento)"
      ],
      "execution_count": null,
      "outputs": [
        {
          "output_type": "stream",
          "text": [
            "Antes:\n",
            "{'filmes': 'Soul', 'séries': 'The Crown', 'livros': 'O Pequeno Príncipe'}\n",
            "Depois:\n",
            "{'filmes': 'Soul', 'séries': 'The Crown', 'livros': 'O Pequeno Príncipe', 'cantoras': 'Taylor Swift'}\n"
          ],
          "name": "stdout"
        }
      ]
    },
    {
      "cell_type": "markdown",
      "metadata": {
        "id": "FVG10DY102J2"
      },
      "source": [
        "## Remoção de elementos de um dicionário"
      ]
    },
    {
      "cell_type": "markdown",
      "metadata": {
        "id": "2tOwPJXQ06Pp"
      },
      "source": [
        "Também é possível remover um par `chave:valor` com o comando `del()`.\n",
        "\n",
        "```\n",
        "del entretenimento['livros']\n",
        "```\n",
        "\n"
      ]
    },
    {
      "cell_type": "code",
      "metadata": {
        "colab": {
          "base_uri": "https://localhost:8080/"
        },
        "id": "o9TGQbpjcjfO",
        "outputId": "65acddd6-be21-43a0-b834-ca1f82422299"
      },
      "source": [
        "# Inicializando o dicionário com o dict()\n",
        "entretenimento = dict([('filmes', 'Soul'), ('séries', 'The Crown'), ('livros', 'O Pequeno Príncipe')])\n",
        "\n",
        "# Imprimindo o conteúdo deste dicionário antes da inserção\n",
        "print('Antes:')\n",
        "print(entretenimento)\n",
        "\n",
        "# Inserindo um novo elemento neste dicionario\n",
        "del entretenimento['livros'] \n",
        "\n",
        "# Imprimindo o conteúdo deste dicionário após da inserção\n",
        "print('Depois:')\n",
        "print(entretenimento)"
      ],
      "execution_count": null,
      "outputs": [
        {
          "output_type": "stream",
          "text": [
            "Antes:\n",
            "{'filmes': 'Soul', 'séries': 'The Crown', 'livros': 'O Pequeno Príncipe'}\n",
            "Depois:\n",
            "{'filmes': 'Soul', 'séries': 'The Crown'}\n"
          ],
          "name": "stdout"
        }
      ]
    },
    {
      "cell_type": "code",
      "metadata": {
        "colab": {
          "base_uri": "https://localhost:8080/"
        },
        "id": "0zvYjTMZtZ2w",
        "outputId": "e31e8d83-4d52-4d92-c71a-4fb06bce2aa6"
      },
      "source": [
        "print(type([1, 2, 3]))"
      ],
      "execution_count": null,
      "outputs": [
        {
          "output_type": "stream",
          "text": [
            "<class 'list'>\n"
          ],
          "name": "stdout"
        }
      ]
    },
    {
      "cell_type": "code",
      "metadata": {
        "id": "9bA0fMuVteQE"
      },
      "source": [
        ""
      ],
      "execution_count": null,
      "outputs": []
    }
  ]
}