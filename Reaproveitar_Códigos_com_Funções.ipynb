{
  "nbformat": 4,
  "nbformat_minor": 0,
  "metadata": {
    "colab": {
      "name": "Reaproveitar Códigos com Funções",
      "provenance": [],
      "collapsed_sections": [],
      "include_colab_link": true
    },
    "kernelspec": {
      "name": "python3",
      "display_name": "Python 3"
    },
    "language_info": {
      "name": "python"
    }
  },
  "cells": [
    {
      "cell_type": "markdown",
      "metadata": {
        "id": "view-in-github",
        "colab_type": "text"
      },
      "source": [
        "<a href=\"https://colab.research.google.com/github/r4skaren/python-tera/blob/main/Reaproveitar_C%C3%B3digos_com_Fun%C3%A7%C3%B5es.ipynb\" target=\"_parent\"><img src=\"https://colab.research.google.com/assets/colab-badge.svg\" alt=\"Open In Colab\"/></a>"
      ]
    },
    {
      "cell_type": "markdown",
      "metadata": {
        "id": "qywb5w1HPAOa"
      },
      "source": [
        "# Reaproveitar Códigos com Funções"
      ]
    },
    {
      "cell_type": "markdown",
      "metadata": {
        "id": "1Pa__XBJoJw5"
      },
      "source": [
        "# Porque Reaproveitar Código?\n",
        "\n",
        "Um código que somente executa uma série de instruções pode se tornar rapidamente difícil de manter, tanto pelo seu tamanho quanto pela complexidade que cresce a cada nova linha. "
      ]
    },
    {
      "cell_type": "markdown",
      "metadata": {
        "id": "sDOqBqq9zs5r"
      },
      "source": [
        "# Estrutura de uma Função\n",
        "\n",
        "Uma função é composta minimamente de alguns elementos básicos, como mostrado no exemplo abaixo:\n",
        "\n",
        "```\n",
        "def nome_da_função(<parâmetros> ou NADA):\n",
        "    <código da função>\n",
        "    <retorno> ou NADA\n",
        "    <espaço>\n",
        "```\n",
        "\n",
        "Toda função deve começar com a declaração **`def`**, que indica que uma função será descrita, seguida de um espaço e do **nome da função**. Na seqência, seguem os **parênteses**, que podem estar vazios ou conter argumentos como nomes de parâmetros. Fecha-se a primeira linha com **dois pontos**, indicando que o que vier a seguir, na linha de baixo, será o código da função **identado por 4 espaços ou TAB**. Essa identação de **_python_** indica que **todo código alinhado** com a identação **pertence ao escopo** definido na linha acima.\n",
        "\n",
        "O nome da função pode ser escrita de diversar formas, mas a mais correta, pela [convenção PEP8](https://www.python.org/dev/peps/pep-0008/#function-and-variable-names) para nomes de função:\n",
        "\n",
        "- Apenas palavras com letras **minúsculas**.\n",
        "- Palavras separadas por _underscore_ (`_`).\n",
        "- O nome deve **explicar suscintamente** o que a função faz.\n",
        "\n",
        "Alguns exemplos:\n",
        "\n",
        "    - Exemplo **bom**: `soma_dois_numeros`\n",
        "    - Exemplo **ruim**, não explica o que fez: `s_nums_xy`\n",
        "    - Exemplo **ruim**, pouco suscinto: `somatorio_regular_sem_pesos_de_numeros`    \n",
        "    - Outro exemplo **ruim**, que não usa o formato sugerido: `SomarDoisNumeros`\n",
        "\n",
        "Para finalizar, a função pode **retornar um ou mais valores** ou nenhum. Caso não retorne nenhum valor, ou seja, o campo `return` não estiver presente, a função retorna `None`. Após a última linha, o ideal é dar pelo menos **dois espaços em branco** para a próxima função ou linha de código. Por convenção, se a função terminar no final do arquivo, **uma linha basta**; se estiver no **final de uma célula** do _notebook_, pode deixar sem espaço no fim.\n",
        "\n",
        "**Muito importante**: a partir do momento em que a linha `return` for executada, o interpretador do **_python_** encerra a execução e volta para as linhas de código imediatamente após a chamada da função.\n",
        "\n",
        "A seguir, um exemplo de função sem parâmetros e que não retorna nada."
      ]
    },
    {
      "cell_type": "code",
      "metadata": {
        "id": "U_UdY2ECgHES"
      },
      "source": [
        "# função que imprime 'Bom Dia'\n",
        "\n",
        "def dizer_bom_dia():\n",
        "    print('Bom Dia')"
      ],
      "execution_count": null,
      "outputs": []
    },
    {
      "cell_type": "markdown",
      "metadata": {
        "id": "6B8CFSR8hvDu"
      },
      "source": [
        "A chamada da função **sempre** necessita dos **parêntesis** para executar. Se não estiverem, o interpretador entende que **é o tipo da função** que está sendo retornado."
      ]
    },
    {
      "cell_type": "code",
      "metadata": {
        "colab": {
          "base_uri": "https://localhost:8080/"
        },
        "id": "FXK240eahptC",
        "outputId": "d498eca2-b3d3-4dd7-b107-64d1f935e4fa"
      },
      "source": [
        "# chamada correta da função\n",
        "dizer_bom_dia()"
      ],
      "execution_count": null,
      "outputs": [
        {
          "output_type": "stream",
          "text": [
            "Bom Dia\n"
          ],
          "name": "stdout"
        }
      ]
    },
    {
      "cell_type": "code",
      "metadata": {
        "colab": {
          "base_uri": "https://localhost:8080/"
        },
        "id": "WSEvSJW4iBku",
        "outputId": "82ba83c2-619d-4846-b63e-3a3d9798ca6c"
      },
      "source": [
        "# chamada incorreta\n",
        "dizer_bom_dia"
      ],
      "execution_count": null,
      "outputs": [
        {
          "output_type": "execute_result",
          "data": {
            "text/plain": [
              "<function __main__.dizer_bom_dia>"
            ]
          },
          "metadata": {
            "tags": []
          },
          "execution_count": 12
        }
      ]
    },
    {
      "cell_type": "markdown",
      "metadata": {
        "id": "I9xqMNB4zs_6"
      },
      "source": [
        "## Argumentos da Função\n",
        "\n",
        "Os argumentos (ou parâmetros de entrada) da função são declarados dentro dos parênteses na primeira linha. São efetivamente **variáveis criadas dentro do escopo da função**, que só podem ser acessadas pelo nome enquanto o interpretador estiver executando a função.\n",
        "\n",
        "A convenção do [PEP8](https://www.python.org/dev/peps/pep-0008/#function-and-variable-names) para variáveis **segue o mesmo princípio** dos nomes de função."
      ]
    },
    {
      "cell_type": "code",
      "metadata": {
        "id": "o40rSiMUL504"
      },
      "source": [
        "# função para somar dois números\n",
        "def soma_dois_numeros(n1, n2):\n",
        "    return n1 + n2"
      ],
      "execution_count": null,
      "outputs": []
    },
    {
      "cell_type": "code",
      "metadata": {
        "colab": {
          "base_uri": "https://localhost:8080/"
        },
        "id": "QF3ZEdn0mpnK",
        "outputId": "dd51d824-8c74-4fdf-d84c-5e9c7e6e1bae"
      },
      "source": [
        "# chamando a função\n",
        "soma_dois_numeros(23, 44)"
      ],
      "execution_count": null,
      "outputs": [
        {
          "output_type": "execute_result",
          "data": {
            "text/plain": [
              "67"
            ]
          },
          "metadata": {
            "tags": []
          },
          "execution_count": 20
        }
      ]
    },
    {
      "cell_type": "markdown",
      "metadata": {
        "id": "5EBY0wLIsQ2u"
      },
      "source": [
        "## Argumentos _default_\n",
        "\n",
        "Se o desenvolvedor colocar uma **atribuição** de valor em um argumento de entrada, esse argumento **deixa de ser obrigatório** na chamada da função. Se for esse o caso, o argumento **assume o valor colocado como padrão** e toda vez que a função for chamada sem o argumento **o parâmetro terá o valor definido na função**."
      ]
    },
    {
      "cell_type": "markdown",
      "metadata": {
        "id": "LPxL-DOsF8G2"
      },
      "source": [
        "Vamos reaproveitar um código que escrevemos na aula de estruturas condicionais e criar uma função que chama `dizer_cumprimento`:"
      ]
    },
    {
      "cell_type": "code",
      "metadata": {
        "id": "js1iyVN3tF93"
      },
      "source": [
        "def dizer_cumprimento(hora=12):\n",
        "  if 6 <= hora <= 12:\n",
        "    return \"Bom dia\"\n",
        "  elif 13 <= hora <= 18:\n",
        "    return \"Boa tarde\"\n",
        "  elif 19 <= hora <= 24:\n",
        "    return \"Boa noite\"\n",
        "  else:\n",
        "    return \"Ainda é de madrugada\""
      ],
      "execution_count": null,
      "outputs": []
    },
    {
      "cell_type": "markdown",
      "metadata": {
        "id": "i3AcM6c5GCCD"
      },
      "source": [
        "Podemos chamar a função passando o argumento de hora:"
      ]
    },
    {
      "cell_type": "code",
      "metadata": {
        "id": "Lh6gjZNduHrC",
        "colab": {
          "base_uri": "https://localhost:8080/",
          "height": 35
        },
        "outputId": "9f41969c-63b2-4818-d90b-d7e3315200fc"
      },
      "source": [
        "dizer_cumprimento(20)"
      ],
      "execution_count": null,
      "outputs": [
        {
          "output_type": "execute_result",
          "data": {
            "application/vnd.google.colaboratory.intrinsic+json": {
              "type": "string"
            },
            "text/plain": [
              "'Boa noite'"
            ]
          },
          "metadata": {
            "tags": []
          },
          "execution_count": 6
        }
      ]
    },
    {
      "cell_type": "markdown",
      "metadata": {
        "id": "QPwUbbj-GSIw"
      },
      "source": [
        "Ou podemos chamar a função sem nenhum parâmetro, mas como definimos 12 como o valor padrão para hora no momento que criamos a função o Python irá assumir este como o valor para hora."
      ]
    },
    {
      "cell_type": "code",
      "metadata": {
        "id": "r1NC_yfcuMbY",
        "colab": {
          "base_uri": "https://localhost:8080/",
          "height": 35
        },
        "outputId": "a6849e19-dcc4-449e-90ae-9e74a6637651"
      },
      "source": [
        "dizer_cumprimento()"
      ],
      "execution_count": null,
      "outputs": [
        {
          "output_type": "execute_result",
          "data": {
            "application/vnd.google.colaboratory.intrinsic+json": {
              "type": "string"
            },
            "text/plain": [
              "'Bom dia'"
            ]
          },
          "metadata": {
            "tags": []
          },
          "execution_count": 7
        }
      ]
    },
    {
      "cell_type": "markdown",
      "metadata": {
        "id": "26CogDrD0gQ3"
      },
      "source": [
        "# Função Anônima: _Lambda_\n",
        "\n",
        "A função anônima, ou `lambda`, é um recurso da linguagem **_python_** que permite que seja criado um código que funciona como **uma função simples** sem precisar criar um espaço na memória especialmente para isso, como é feito com as funções definidas por `def`. \n",
        "\n",
        "A idéia de ser \"anônima\" é exatamente por não se criar esse espaço na memória, que é sempre referenciado pelo **nome da função**. Ao contrário, o `lambda` desaparece da memória (fica à mercê do _garbage collector_) assim que todas as referências a ele somem. Dessa forma, é uma das maneiras ideiais para se passar um comportamento de função muito simples para dentro de alguma outra função ou trecho de código que será executado."
      ]
    },
    {
      "cell_type": "markdown",
      "metadata": {
        "id": "GVHO2Xeu0gcr"
      },
      "source": [
        "## Estrutura geral de um Lambda\n",
        "\n",
        "A composição do `lambda` é muito simples:\n",
        "\n",
        "> ```lambda <parâmetros> : <operações>```\n",
        "\n",
        "Para começar, um `lambda` é declarado com o próprio termo `lambda`. Na sequência são declarados os parâmetros que serão usados na operação que segue os dois pontos (`:`). \n",
        "\n",
        "Essa operação precisa ser **muito simples**, não pode passar de **uma linha de código** que trabalha **exclusivamente** os parâmetros declarados na entrada, e não há necessidade de aplicar um `return`: o que resultar da operação será **automaticamente** retornado.\n",
        "\n",
        "\n",
        "Os parâmetros são edclarados da mesma forma que nas funções tradicionais, com a diferença de que não são declarados dentro de parênteses. Também como em uma função tradicional, **pode não haver parâmetros** declarados, na forma:\n",
        "\n",
        "> ```lambda : <operações>```\n",
        "\n",
        "Alguns exemplos de `lambda` serão mostrados a seguir."
      ]
    },
    {
      "cell_type": "code",
      "metadata": {
        "colab": {
          "base_uri": "https://localhost:8080/"
        },
        "id": "BKvK-MJwTXoP",
        "outputId": "bab64987-b989-4b0f-f359-96bc23378157"
      },
      "source": [
        "# atribuindo o lambda para poder demonstrar\n",
        "fn = lambda x: x ** 2\n",
        "fn(12)"
      ],
      "execution_count": null,
      "outputs": [
        {
          "output_type": "execute_result",
          "data": {
            "text/plain": [
              "144"
            ]
          },
          "metadata": {
            "tags": []
          },
          "execution_count": 45
        }
      ]
    },
    {
      "cell_type": "markdown",
      "metadata": {
        "id": "ZVOD4j5r1pfd"
      },
      "source": [
        "## Exemplos de uso\n",
        "\n",
        "É mais fácil entender a utilidade do `lambda` quando ele é usado em funções que esperam um `lambda` para funcionar bem. Os três exemplos a seguir ilustram bem alguns usos de `lambda`."
      ]
    },
    {
      "cell_type": "markdown",
      "metadata": {
        "id": "6Ent8xmxSVSZ"
      },
      "source": [
        "### Função `sorted()`\n",
        "\n",
        "Função que ordena uma lista de elementos ordenáveis. Usado normalmente, não necessita de `lambda`, como no exemplo a seguir."
      ]
    },
    {
      "cell_type": "code",
      "metadata": {
        "colab": {
          "base_uri": "https://localhost:8080/"
        },
        "id": "b9yGq65JUW0O",
        "outputId": "721b7e9b-2185-471b-9694-27758aa46647"
      },
      "source": [
        "# forma mais comum de usar  o `sorted`\n",
        "x = [1, 5, 2, 4, 7, 8, 4, 2, 9]\n",
        "sorted(x)"
      ],
      "execution_count": null,
      "outputs": [
        {
          "output_type": "execute_result",
          "data": {
            "text/plain": [
              "[1, 2, 2, 4, 4, 5, 7, 8, 9]"
            ]
          },
          "metadata": {
            "tags": []
          },
          "execution_count": 50
        }
      ]
    },
    {
      "cell_type": "markdown",
      "metadata": {
        "id": "QvPKV5GuUlWv"
      },
      "source": [
        "Mas olhando a `docstring` da função, pode-se observar que existe um parâmetro `key` que permite mudar a forma tradicional de ordenação."
      ]
    },
    {
      "cell_type": "code",
      "metadata": {
        "colab": {
          "base_uri": "https://localhost:8080/"
        },
        "id": "b29tVSZLUlf3",
        "outputId": "4d01a6db-957b-44c8-bb8c-30c7bc5f425a"
      },
      "source": [
        "help(sorted)"
      ],
      "execution_count": null,
      "outputs": [
        {
          "output_type": "stream",
          "text": [
            "Help on built-in function sorted in module builtins:\n",
            "\n",
            "sorted(iterable, /, *, key=None, reverse=False)\n",
            "    Return a new list containing all items from the iterable in ascending order.\n",
            "    \n",
            "    A custom key function can be supplied to customize the sort order, and the\n",
            "    reverse flag can be set to request the result in descending order.\n",
            "\n"
          ],
          "name": "stdout"
        }
      ]
    },
    {
      "cell_type": "markdown",
      "metadata": {
        "id": "ZpPCyMy9VDgQ"
      },
      "source": [
        "Com isso, algumas coisas novas podem ser feitas para aproveitar essa abertura. Por exemplo, é possível modificar o `sorted` para ordenar primeiro os números pares e seguir com os ímpares ordenados."
      ]
    },
    {
      "cell_type": "code",
      "metadata": {
        "colab": {
          "base_uri": "https://localhost:8080/"
        },
        "id": "WBr2SDF_VDrF",
        "outputId": "7151d89d-efef-411b-c2a3-fb6e4aaa8b67"
      },
      "source": [
        "# exemplo de ordenação customizada: pares, depois ímpares\n",
        "x = [1, 5, 2, 4, 7, 8, 4, 2, 9]\n",
        "sorted(x, key=lambda x: x * 10 if (x % 2 == 1) else x)"
      ],
      "execution_count": null,
      "outputs": [
        {
          "output_type": "execute_result",
          "data": {
            "text/plain": [
              "[2, 2, 4, 4, 8, 1, 5, 7, 9]"
            ]
          },
          "metadata": {
            "tags": []
          },
          "execution_count": 52
        }
      ]
    }
  ]
}