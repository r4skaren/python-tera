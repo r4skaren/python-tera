{
  "nbformat": 4,
  "nbformat_minor": 0,
  "metadata": {
    "kernelspec": {
      "display_name": "Python 3",
      "language": "python",
      "name": "python3"
    },
    "language_info": {
      "codemirror_mode": {
        "name": "ipython",
        "version": 3
      },
      "file_extension": ".py",
      "mimetype": "text/x-python",
      "name": "python",
      "nbconvert_exporter": "python",
      "pygments_lexer": "ipython3",
      "version": "3.8.5"
    },
    "colab": {
      "name": "Estruturas de repetição em Python",
      "provenance": [],
      "include_colab_link": true
    }
  },
  "cells": [
    {
      "cell_type": "markdown",
      "metadata": {
        "id": "view-in-github",
        "colab_type": "text"
      },
      "source": [
        "<a href=\"https://colab.research.google.com/github/r4skaren/python-tera/blob/main/Estruturas_de_repeti%C3%A7%C3%A3o_em_Python.ipynb\" target=\"_parent\"><img src=\"https://colab.research.google.com/assets/colab-badge.svg\" alt=\"Open In Colab\"/></a>"
      ]
    },
    {
      "cell_type": "markdown",
      "metadata": {
        "id": "MXxYWajCQba4"
      },
      "source": [
        "# Estruturas de repetição em Python"
      ]
    },
    {
      "cell_type": "markdown",
      "metadata": {
        "id": "_mQ0wsbSQbbA"
      },
      "source": [
        "### O que é uma estrutura de repetição, e quando usá-la?"
      ]
    },
    {
      "cell_type": "markdown",
      "metadata": {
        "id": "_Po_iImsQbbB"
      },
      "source": [
        "Imagine que você tenha uma lista de nomes e queira construir um código para imprimí-los:\n",
        "* João\n",
        "* Marcela\n",
        "* Felipe\n",
        "* Ana"
      ]
    },
    {
      "cell_type": "markdown",
      "metadata": {
        "id": "A3IK1Jo7QbbB"
      },
      "source": [
        "Um caminho seria escrever um código por nome"
      ]
    },
    {
      "cell_type": "code",
      "metadata": {
        "id": "hwUq3Z-_QbbC",
        "outputId": "114802db-1aa5-4e58-a39b-104675eed907"
      },
      "source": [
        "print('João')\n",
        "print('Marcela')\n",
        "print('Felipe')\n",
        "print('Ana')"
      ],
      "execution_count": null,
      "outputs": [
        {
          "output_type": "stream",
          "text": [
            "João\n",
            "Marcela\n",
            "Felipe\n",
            "Ana\n"
          ],
          "name": "stdout"
        }
      ]
    },
    {
      "cell_type": "markdown",
      "metadata": {
        "id": "tzVLmNnfQbbE"
      },
      "source": [
        "Mas imagine agora que você tenha uma lista com 12 nomes! Esse trabalho seria muito mais difícil, certo?"
      ]
    },
    {
      "cell_type": "code",
      "metadata": {
        "id": "NKBFVGbtQbbE"
      },
      "source": [
        "lista_nomes = ['João','Marcela','Felipe','Ana','Augusto','Flávio',\n",
        "         'Henrique','Juliana','Andrei','Bruno','Marina']"
      ],
      "execution_count": null,
      "outputs": []
    },
    {
      "cell_type": "code",
      "metadata": {
        "id": "IKDciFvmQbbE",
        "outputId": "b4247d6a-ebf0-46a5-a7c0-6b093284a90c"
      },
      "source": [
        "print('João')\n",
        "print('Marcela')\n",
        "print('Felipe')\n",
        "# ..."
      ],
      "execution_count": null,
      "outputs": [
        {
          "output_type": "stream",
          "text": [
            "João\n",
            "Marcela\n",
            "Felipe\n"
          ],
          "name": "stdout"
        }
      ]
    },
    {
      "cell_type": "code",
      "metadata": {
        "id": "ktIkwLp0QbbF",
        "outputId": "299f528b-b593-48e2-8277-cde1ad7bd281"
      },
      "source": [
        "nome = 'Marcela'\n",
        "print(nome)"
      ],
      "execution_count": null,
      "outputs": [
        {
          "output_type": "stream",
          "text": [
            "Marcela\n"
          ],
          "name": "stdout"
        }
      ]
    },
    {
      "cell_type": "markdown",
      "metadata": {
        "id": "8Yb0JalgQbbG"
      },
      "source": [
        "Na prática, a tarefa que queremos fazer é a seguinte: \n",
        "* `para` cada nome dentro de `lista_nomes`, imprima o nome"
      ]
    },
    {
      "cell_type": "markdown",
      "metadata": {
        "id": "GWimF5D4QbbG"
      },
      "source": [
        "### A estrutura de repetição `for` em Python"
      ]
    },
    {
      "cell_type": "markdown",
      "metadata": {
        "id": "IsLqe0iOQbbH"
      },
      "source": [
        "Felizmente, em Python, podemos fazer este trabalho usando uma `estrutura de repetição`!\n",
        "\n",
        "Em Python (e muitas outras linguagens de programação), o comando que indica uma repetição é o equivalente em inglês da palavra **para**: `for`"
      ]
    },
    {
      "cell_type": "code",
      "metadata": {
        "id": "GCMhJ-aoQbbH"
      },
      "source": [
        "lista_nomes = ['João','Marcela','Felipe','Ana','Augusto','Flávio',\n",
        "         'Henrique','Juliana','Andrei','Bruno','Marina']"
      ],
      "execution_count": null,
      "outputs": []
    },
    {
      "cell_type": "code",
      "metadata": {
        "id": "Wst1REngQbbI",
        "outputId": "39d8cb5f-d8d0-4598-8bdb-3e076beee807"
      },
      "source": [
        "for nome in lista_nomes:\n",
        "    print(nome)"
      ],
      "execution_count": null,
      "outputs": [
        {
          "output_type": "stream",
          "text": [
            "João\n",
            "Marcela\n",
            "Felipe\n",
            "Ana\n",
            "Augusto\n",
            "Flávio\n",
            "Henrique\n",
            "Juliana\n",
            "Andrei\n",
            "Bruno\n",
            "Marina\n"
          ],
          "name": "stdout"
        }
      ]
    },
    {
      "cell_type": "markdown",
      "metadata": {
        "id": "bUWh62eyQbbJ"
      },
      "source": [
        "Na estrutura acima, temos alguns elementos importantes:\n",
        "* `for`: indicativo de uma estrutura de repetição\n",
        "* `lista_nomes`: Lista de elementos em que faremos a operação a ser repetida\n",
        "*  `nome`: Variável **interna** da estrutura de repetição, atualizada a cada leitura na lista `lista_nomes`"
      ]
    },
    {
      "cell_type": "code",
      "metadata": {
        "id": "SaAq3VWDQbbJ",
        "outputId": "f064b8ec-8568-43bc-814d-1a5a801741be"
      },
      "source": [
        "# Escrevendo a mesma estrutura, mas agora trocando o nome da variável interna\n",
        "for x in lista_nomes:\n",
        "    print(x)"
      ],
      "execution_count": null,
      "outputs": [
        {
          "output_type": "stream",
          "text": [
            "João\n",
            "Marcela\n",
            "Felipe\n",
            "Ana\n",
            "Augusto\n",
            "Flávio\n",
            "Henrique\n",
            "Juliana\n",
            "Andrei\n",
            "Bruno\n",
            "Marina\n"
          ],
          "name": "stdout"
        }
      ]
    },
    {
      "cell_type": "markdown",
      "metadata": {
        "id": "xi2ANhtjQbbL"
      },
      "source": [
        "Assim como na estrutura condicional (`if`), a **indentação/tabulação** faz parte do código, ou seja, os códigos que serão repetidos para cada elemento da lista serão apenas aqueles dentro da identação"
      ]
    },
    {
      "cell_type": "code",
      "metadata": {
        "id": "YqLU_EjGQbbM",
        "outputId": "40adfd0f-eff2-4419-f307-458139a04a10"
      },
      "source": [
        "# Estrutura de repetição\n",
        "for variavel_nome in lista_nomes:\n",
        "    print(variavel_nome) # Vai ser repetido para todos os elementos da lista\n",
        "print(\"Fim da lista\") # Será processado apenas uma vez"
      ],
      "execution_count": null,
      "outputs": [
        {
          "output_type": "stream",
          "text": [
            "João\n",
            "Marcela\n",
            "Felipe\n",
            "Ana\n",
            "Augusto\n",
            "Flávio\n",
            "Henrique\n",
            "Juliana\n",
            "Andrei\n",
            "Bruno\n",
            "Marina\n",
            "Fim da lista\n"
          ],
          "name": "stdout"
        }
      ]
    },
    {
      "cell_type": "markdown",
      "metadata": {
        "id": "aEL-aWbeQbbN"
      },
      "source": [
        "\n",
        "### Combinando estruturas de repetição e condicionais"
      ]
    },
    {
      "cell_type": "markdown",
      "metadata": {
        "id": "Tsqur4nxQbbN"
      },
      "source": [
        "Como a estrutura de repetição possui um bloco de código próprio, podemos inclusive incluir outras estruturas, como as condicionais (`if/else`)"
      ]
    },
    {
      "cell_type": "code",
      "metadata": {
        "id": "37DAUUcyQbbO",
        "outputId": "9f995a8f-f6d7-44b2-979c-497e261ccd23"
      },
      "source": [
        "numeros = [0,1,2,3,4,5,6]\n",
        "for numero in numeros:\n",
        "    if numero==2:\n",
        "        print(\"É o número 2\")\n",
        "    else:\n",
        "        print(\"Não é o número 2\")"
      ],
      "execution_count": null,
      "outputs": [
        {
          "output_type": "stream",
          "text": [
            "Não é o número 2\n",
            "Não é o número 2\n",
            "É o número 2\n",
            "Não é o número 2\n",
            "Não é o número 2\n",
            "Não é o número 2\n",
            "Não é o número 2\n"
          ],
          "name": "stdout"
        }
      ]
    },
    {
      "cell_type": "markdown",
      "metadata": {
        "id": "9XIbGDX1QbbP"
      },
      "source": [
        "Agora vamos encadear uma estrutura condicional com três possibilidades"
      ]
    },
    {
      "cell_type": "code",
      "metadata": {
        "id": "6vK3I6C9QbbP",
        "outputId": "5891b8d3-fd54-4dc5-ce90-feeb31430cf5"
      },
      "source": [
        "numeros = [0,1,2,3,4,5,6]\n",
        "for numero in numeros:\n",
        "    if numero<=2:\n",
        "        print(\"É menor ou igual a 2\")\n",
        "    elif numero<=4:\n",
        "        print(\"Está entre 2 e 4\")\n",
        "    else:\n",
        "        print(\"É maior que 4\")"
      ],
      "execution_count": null,
      "outputs": [
        {
          "output_type": "stream",
          "text": [
            "É menor ou igual a 2\n",
            "É menor ou igual a 2\n",
            "É menor ou igual a 2\n",
            "Está entre 2 e 4\n",
            "Está entre 2 e 4\n",
            "É maior que 4\n",
            "É maior que 4\n"
          ],
          "name": "stdout"
        }
      ]
    },
    {
      "cell_type": "markdown",
      "metadata": {
        "id": "JiicmXOUTE0c"
      },
      "source": [
        "### A estrutura de repetição **while** em Python\n",
        "Uma outra forma de escrever uma estrutura de repetição é com o `while`, neste caso o código irá se repetir enquanto até que um certo cenário aconteça.\n",
        "\n"
      ]
    },
    {
      "cell_type": "code",
      "metadata": {
        "colab": {
          "base_uri": "https://localhost:8080/"
        },
        "id": "_f2lVq1WTFQs",
        "outputId": "dcb56331-c7eb-432f-d5d0-3634eff70b11"
      },
      "source": [
        "contador =  0\n",
        "\n",
        "while contador < 8:\n",
        "  contador = contador + 1\n",
        "  print(\"Já acabou?\")\n"
      ],
      "execution_count": null,
      "outputs": [
        {
          "output_type": "stream",
          "text": [
            "Já acabou?\n",
            "Já acabou?\n",
            "Já acabou?\n",
            "Já acabou?\n",
            "Já acabou?\n",
            "Já acabou?\n",
            "Já acabou?\n",
            "Já acabou?\n"
          ],
          "name": "stdout"
        }
      ]
    },
    {
      "cell_type": "code",
      "metadata": {
        "id": "-2FTlVC5TRUO"
      },
      "source": [
        ""
      ],
      "execution_count": null,
      "outputs": []
    }
  ]
}