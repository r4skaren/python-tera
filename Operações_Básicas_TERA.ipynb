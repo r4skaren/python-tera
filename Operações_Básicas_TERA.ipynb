{
  "nbformat": 4,
  "nbformat_minor": 0,
  "metadata": {
    "colab": {
      "name": "Operações Básicas - TERA",
      "provenance": [],
      "include_colab_link": true
    },
    "kernelspec": {
      "name": "python3",
      "display_name": "Python 3"
    },
    "language_info": {
      "name": "python"
    }
  },
  "cells": [
    {
      "cell_type": "markdown",
      "metadata": {
        "id": "view-in-github",
        "colab_type": "text"
      },
      "source": [
        "<a href=\"https://colab.research.google.com/github/r4skaren/python-tera/blob/main/Opera%C3%A7%C3%B5es_B%C3%A1sicas_TERA.ipynb\" target=\"_parent\"><img src=\"https://colab.research.google.com/assets/colab-badge.svg\" alt=\"Open In Colab\"/></a>"
      ]
    },
    {
      "cell_type": "markdown",
      "metadata": {
        "id": "87Uw_ZzIfRyP"
      },
      "source": [
        "#### **Operações básicas**\n",
        "\n",
        "O Python é uma linguagem de programação. Ademais, como toda boa linguagem de programação, é também uma **potente calculadora aritmética**, sendo capaz de realizar operações matemáticas simples e avançadas. Nessa aula iremos focar nas operações matemáticas básicas: **adiçao, subtração, multiplicação, divisão, módulo e exponenciação**\n",
        "\n"
      ]
    },
    {
      "cell_type": "markdown",
      "metadata": {
        "id": "jQ95WAfSfUaq"
      },
      "source": [
        "adição"
      ]
    },
    {
      "cell_type": "code",
      "metadata": {
        "id": "L56c4Xu0fIQE",
        "colab": {
          "base_uri": "https://localhost:8080/"
        },
        "outputId": "a662db10-a839-4fa4-9808-b2623be7e3fe"
      },
      "source": [
        "3+2"
      ],
      "execution_count": null,
      "outputs": [
        {
          "output_type": "execute_result",
          "data": {
            "text/plain": [
              "5"
            ]
          },
          "metadata": {
            "tags": []
          },
          "execution_count": 1
        }
      ]
    },
    {
      "cell_type": "markdown",
      "metadata": {
        "id": "l9sj3fxOfWPz"
      },
      "source": [
        "subtração"
      ]
    },
    {
      "cell_type": "code",
      "metadata": {
        "id": "MjDQAouKulhp",
        "colab": {
          "base_uri": "https://localhost:8080/"
        },
        "outputId": "7d51a715-114c-4735-a55c-5c9e9976d42d"
      },
      "source": [
        "2-3"
      ],
      "execution_count": null,
      "outputs": [
        {
          "output_type": "execute_result",
          "data": {
            "text/plain": [
              "-1"
            ]
          },
          "metadata": {
            "tags": []
          },
          "execution_count": 2
        }
      ]
    },
    {
      "cell_type": "code",
      "metadata": {
        "id": "IaUOwiakfaIY",
        "colab": {
          "base_uri": "https://localhost:8080/"
        },
        "outputId": "13a565da-5fd8-4281-c9fe-a73f7d01d54c"
      },
      "source": [
        "3-2"
      ],
      "execution_count": null,
      "outputs": [
        {
          "output_type": "execute_result",
          "data": {
            "text/plain": [
              "1"
            ]
          },
          "metadata": {
            "tags": []
          },
          "execution_count": 3
        }
      ]
    },
    {
      "cell_type": "markdown",
      "metadata": {
        "id": "Kow4kvKsg7iK"
      },
      "source": [
        "multiplicação"
      ]
    },
    {
      "cell_type": "code",
      "metadata": {
        "id": "gSP6y1tPg9Wk",
        "colab": {
          "base_uri": "https://localhost:8080/"
        },
        "outputId": "f575d544-ee9b-40ca-a8b2-0812eb10b046"
      },
      "source": [
        "3*2"
      ],
      "execution_count": null,
      "outputs": [
        {
          "output_type": "execute_result",
          "data": {
            "text/plain": [
              "6"
            ]
          },
          "metadata": {
            "tags": []
          },
          "execution_count": 4
        }
      ]
    },
    {
      "cell_type": "markdown",
      "metadata": {
        "id": "e6c-Z5kVgMhJ"
      },
      "source": [
        "Divisão"
      ]
    },
    {
      "cell_type": "code",
      "metadata": {
        "id": "GN6arCuDgC-o",
        "colab": {
          "base_uri": "https://localhost:8080/"
        },
        "outputId": "4c0c20e3-4da2-4452-9239-36d1e9e9026c"
      },
      "source": [
        "3/2"
      ],
      "execution_count": null,
      "outputs": [
        {
          "output_type": "execute_result",
          "data": {
            "text/plain": [
              "1.5"
            ]
          },
          "metadata": {
            "tags": []
          },
          "execution_count": 5
        }
      ]
    },
    {
      "cell_type": "markdown",
      "metadata": {
        "id": "XRhjv4OQhDPY"
      },
      "source": [
        "Parte inteira da divisão"
      ]
    },
    {
      "cell_type": "code",
      "metadata": {
        "id": "cFEfOEz4hCqO",
        "colab": {
          "base_uri": "https://localhost:8080/"
        },
        "outputId": "8fc518f3-4d28-4774-9803-896c8fdfbbd7"
      },
      "source": [
        "5//2"
      ],
      "execution_count": null,
      "outputs": [
        {
          "output_type": "execute_result",
          "data": {
            "text/plain": [
              "2"
            ]
          },
          "metadata": {
            "tags": []
          },
          "execution_count": 6
        }
      ]
    },
    {
      "cell_type": "markdown",
      "metadata": {
        "id": "vAGddnoLiNEw"
      },
      "source": [
        "Modulo (ou resto da divisão)"
      ]
    },
    {
      "cell_type": "code",
      "metadata": {
        "id": "QVIQ8EvXhWVT",
        "colab": {
          "base_uri": "https://localhost:8080/"
        },
        "outputId": "1e731caa-82e6-4dee-c948-0bf08cee7f24"
      },
      "source": [
        "5%2"
      ],
      "execution_count": null,
      "outputs": [
        {
          "output_type": "execute_result",
          "data": {
            "text/plain": [
              "1"
            ]
          },
          "metadata": {
            "tags": []
          },
          "execution_count": 7
        }
      ]
    },
    {
      "cell_type": "markdown",
      "metadata": {
        "id": "ixx9BvidhdDl"
      },
      "source": [
        "Exponenciação (potenciação)"
      ]
    },
    {
      "cell_type": "code",
      "metadata": {
        "id": "5HnvSrh0ha23",
        "colab": {
          "base_uri": "https://localhost:8080/"
        },
        "outputId": "f67f4444-a179-4377-ea31-c3d111ae2dc8"
      },
      "source": [
        "2**3"
      ],
      "execution_count": null,
      "outputs": [
        {
          "output_type": "execute_result",
          "data": {
            "text/plain": [
              "8"
            ]
          },
          "metadata": {
            "tags": []
          },
          "execution_count": 8
        }
      ]
    },
    {
      "cell_type": "markdown",
      "metadata": {
        "id": "K_rdO6S4hrCu"
      },
      "source": [
        "Raiz quadrada"
      ]
    },
    {
      "cell_type": "code",
      "metadata": {
        "id": "VX3hS9i7hmG6",
        "colab": {
          "base_uri": "https://localhost:8080/"
        },
        "outputId": "a8cdb477-abde-4a06-a3a3-585fc77d1a79"
      },
      "source": [
        "4**(1/2)"
      ],
      "execution_count": null,
      "outputs": [
        {
          "output_type": "execute_result",
          "data": {
            "text/plain": [
              "2.0"
            ]
          },
          "metadata": {
            "tags": []
          },
          "execution_count": 9
        }
      ]
    },
    {
      "cell_type": "markdown",
      "metadata": {
        "id": "e1nOhBKth0sK"
      },
      "source": [
        "#### **Variáveis**\n",
        "\n",
        "É um dos conceitos mais utilizados nas linguagens de programação. **São utilizadas para armazenar valores na memória**. Tornando possível gravar e ler esses valores em um nome pré-definido."
      ]
    },
    {
      "cell_type": "markdown",
      "metadata": {
        "id": "LvMuNlnPjlhO"
      },
      "source": [
        "Declarando a variável `a` e atribuindo o valor 2 para ela"
      ]
    },
    {
      "cell_type": "code",
      "metadata": {
        "id": "l8_FhP-tjZgV"
      },
      "source": [
        "a = 2"
      ],
      "execution_count": null,
      "outputs": []
    },
    {
      "cell_type": "markdown",
      "metadata": {
        "id": "GP5yOeY_s7Qk"
      },
      "source": [
        "Não confudir a atribuição `=` com o sinal de, igual que em python é `==`"
      ]
    },
    {
      "cell_type": "code",
      "metadata": {
        "colab": {
          "base_uri": "https://localhost:8080/"
        },
        "id": "vLSuTN0dtH5i",
        "outputId": "ae6adc5a-3181-4a81-be66-f11102dd0b74"
      },
      "source": [
        "a == 2"
      ],
      "execution_count": null,
      "outputs": [
        {
          "output_type": "execute_result",
          "data": {
            "text/plain": [
              "True"
            ]
          },
          "metadata": {
            "tags": []
          },
          "execution_count": 11
        }
      ]
    },
    {
      "cell_type": "markdown",
      "metadata": {
        "id": "SBrRSHGVjeWW"
      },
      "source": [
        "Comando para escrever a variável `a` na tela"
      ]
    },
    {
      "cell_type": "code",
      "metadata": {
        "id": "7j-LMxvcehv_",
        "colab": {
          "base_uri": "https://localhost:8080/"
        },
        "outputId": "1e59e3be-8245-42bb-a1fa-b5533f5358c7"
      },
      "source": [
        "print(a)"
      ],
      "execution_count": null,
      "outputs": [
        {
          "output_type": "stream",
          "text": [
            "2\n"
          ],
          "name": "stdout"
        }
      ]
    },
    {
      "cell_type": "markdown",
      "metadata": {
        "id": "3uhAQPz8e6BR"
      },
      "source": [
        "Operações com variáveis"
      ]
    },
    {
      "cell_type": "code",
      "metadata": {
        "id": "IWom-TpxjQkj"
      },
      "source": [
        "a = 2\n",
        "b = 4"
      ],
      "execution_count": null,
      "outputs": []
    },
    {
      "cell_type": "code",
      "metadata": {
        "id": "7XHj-veIjTIG",
        "colab": {
          "base_uri": "https://localhost:8080/"
        },
        "outputId": "bc76b377-31a2-4d8f-c8ff-51455cbc0724"
      },
      "source": [
        "a + b + 1 "
      ],
      "execution_count": null,
      "outputs": [
        {
          "output_type": "execute_result",
          "data": {
            "text/plain": [
              "7"
            ]
          },
          "metadata": {
            "tags": []
          },
          "execution_count": 14
        }
      ]
    },
    {
      "cell_type": "markdown",
      "metadata": {
        "id": "umGrRnaFkLr3"
      },
      "source": [
        "Exemplo de uma operação um pouco mais complexa"
      ]
    },
    {
      "cell_type": "code",
      "metadata": {
        "id": "pWsdEB_tj5vh",
        "colab": {
          "base_uri": "https://localhost:8080/"
        },
        "outputId": "b12d0c75-24fe-4d75-fbce-c50031be0513"
      },
      "source": [
        "# Segue a mesma ordem da matemática, usar parênteses para mudar\n",
        "# PEMDAS - Parênteses, Exponenciação, Multiplicação, Divisão, Adição, Subtração\n",
        "b**(1/2) + b*2 + b/(a-1)"
      ],
      "execution_count": null,
      "outputs": [
        {
          "output_type": "execute_result",
          "data": {
            "text/plain": [
              "14.0"
            ]
          },
          "metadata": {
            "tags": []
          },
          "execution_count": 15
        }
      ]
    },
    {
      "cell_type": "markdown",
      "metadata": {
        "id": "OqWOeLiyfCD3"
      },
      "source": [
        "#### **Os tipos das variáveis em python**\n",
        "Os tipos são uma forma de classificar a informação. Os tipos primitivos (elementares) são os tipos de dados mais simples em python, existem outros, mas segue a relação dos mais básicos:\n",
        "\n",
        "* int (integer) - para números inteiros\n",
        "* float - ponto flutuante, representa números decimais\n",
        "* str (string) - para uma sequência de caracteres, representa textos\n",
        "* bool - armazena True ou False (verdadeiro ou falso)"
      ]
    },
    {
      "cell_type": "code",
      "metadata": {
        "id": "ThP91FWPkKkY"
      },
      "source": [
        "mensagem = \"Exemplo de mensagem!\"\n",
        "idade = 25\n",
        "pi = 3.141592653589931\n",
        "acertou = True"
      ],
      "execution_count": null,
      "outputs": []
    },
    {
      "cell_type": "code",
      "metadata": {
        "id": "aEyiac-OpR52",
        "colab": {
          "base_uri": "https://localhost:8080/"
        },
        "outputId": "cf8066dd-4b95-4dd5-d792-2c2e5362563d"
      },
      "source": [
        "type(mensagem)"
      ],
      "execution_count": null,
      "outputs": [
        {
          "output_type": "execute_result",
          "data": {
            "text/plain": [
              "str"
            ]
          },
          "metadata": {
            "tags": []
          },
          "execution_count": 17
        }
      ]
    },
    {
      "cell_type": "code",
      "metadata": {
        "id": "cSxNGx7xrACT",
        "colab": {
          "base_uri": "https://localhost:8080/"
        },
        "outputId": "17439a6b-eb5a-4d7a-92db-817baa885095"
      },
      "source": [
        "type(idade)"
      ],
      "execution_count": null,
      "outputs": [
        {
          "output_type": "execute_result",
          "data": {
            "text/plain": [
              "int"
            ]
          },
          "metadata": {
            "tags": []
          },
          "execution_count": 18
        }
      ]
    },
    {
      "cell_type": "code",
      "metadata": {
        "id": "6iFz2i6srBim",
        "colab": {
          "base_uri": "https://localhost:8080/"
        },
        "outputId": "8e3e6bb9-2754-446b-8f3b-5275b49d2207"
      },
      "source": [
        "type(pi)"
      ],
      "execution_count": null,
      "outputs": [
        {
          "output_type": "execute_result",
          "data": {
            "text/plain": [
              "float"
            ]
          },
          "metadata": {
            "tags": []
          },
          "execution_count": 19
        }
      ]
    },
    {
      "cell_type": "code",
      "metadata": {
        "id": "T8FmNWpVrDjJ",
        "colab": {
          "base_uri": "https://localhost:8080/"
        },
        "outputId": "1d7c48bb-ed9b-4c79-9063-fda4abcd5f44"
      },
      "source": [
        "type(acertou)"
      ],
      "execution_count": null,
      "outputs": [
        {
          "output_type": "execute_result",
          "data": {
            "text/plain": [
              "bool"
            ]
          },
          "metadata": {
            "tags": []
          },
          "execution_count": 20
        }
      ]
    },
    {
      "cell_type": "markdown",
      "metadata": {
        "id": "5qF0QibJrLnU"
      },
      "source": [
        "Variáveis possuem tipos de acordo com seu atual valor"
      ]
    },
    {
      "cell_type": "code",
      "metadata": {
        "id": "DZTNg20kpKJb",
        "colab": {
          "base_uri": "https://localhost:8080/"
        },
        "outputId": "7e69a2ca-2cfa-40cc-8071-6e2cc3f0fa9a"
      },
      "source": [
        "a = 3\n",
        "type(a)"
      ],
      "execution_count": null,
      "outputs": [
        {
          "output_type": "execute_result",
          "data": {
            "text/plain": [
              "int"
            ]
          },
          "metadata": {
            "tags": []
          },
          "execution_count": 21
        }
      ]
    },
    {
      "cell_type": "code",
      "metadata": {
        "id": "FgZRuS33pIKf",
        "colab": {
          "base_uri": "https://localhost:8080/"
        },
        "outputId": "cfd256e7-3adf-4b2d-99de-9e3c133f31da"
      },
      "source": [
        "a = a/2\n",
        "type(a)"
      ],
      "execution_count": null,
      "outputs": [
        {
          "output_type": "execute_result",
          "data": {
            "text/plain": [
              "float"
            ]
          },
          "metadata": {
            "tags": []
          },
          "execution_count": 22
        }
      ]
    },
    {
      "cell_type": "code",
      "metadata": {
        "id": "ASUerKN1YRY-"
      },
      "source": [
        ""
      ],
      "execution_count": null,
      "outputs": []
    },
    {
      "cell_type": "markdown",
      "metadata": {
        "id": "3636anbJGGZV"
      },
      "source": [
        "## Avançando o `print` com as **f-strings**\n",
        "Já vimos como fazer o Python imprimir uma frase (`string`) e também aprendemos sobre variáveis. Vamos avançar um pouco mais e ver como podemos tornar essa função um pouco mais dinâmica.\n",
        "\n",
        "### F-strings\n",
        "As **F-strings** são uma maneira de incorporar variáveis dentro das `strings`, para isso, basta colocarmos a letra `f` antes das aspas da minha `string` e colocar a variável que eu quero que seja incorporada entre chaves. Vamos ver um exemplo."
      ]
    },
    {
      "cell_type": "code",
      "metadata": {
        "colab": {
          "base_uri": "https://localhost:8080/"
        },
        "id": "7X5AX9qzGIW1",
        "outputId": "3025ef48-2589-4c28-bb62-5cd1d299bf98"
      },
      "source": [
        "sobremesa = \"pudim\"\n",
        "\n",
        "print(f\"Hoje a sobremesa é: {sobremesa}!\")"
      ],
      "execution_count": null,
      "outputs": [
        {
          "output_type": "stream",
          "text": [
            "Hoje a sobremesa é: pudim!\n"
          ],
          "name": "stdout"
        }
      ]
    },
    {
      "cell_type": "code",
      "metadata": {
        "id": "fpO3SFk4GJ6V"
      },
      "source": [
        ""
      ],
      "execution_count": null,
      "outputs": []
    }
  ]
}