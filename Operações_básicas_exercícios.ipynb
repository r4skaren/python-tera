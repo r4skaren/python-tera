{
  "nbformat": 4,
  "nbformat_minor": 0,
  "metadata": {
    "colab": {
      "name": "Operações básicas - exercícios",
      "provenance": [],
      "include_colab_link": true
    },
    "kernelspec": {
      "name": "python3",
      "display_name": "Python 3"
    },
    "language_info": {
      "name": "python"
    }
  },
  "cells": [
    {
      "cell_type": "markdown",
      "metadata": {
        "id": "view-in-github",
        "colab_type": "text"
      },
      "source": [
        "<a href=\"https://colab.research.google.com/github/r4skaren/python-tera/blob/main/Opera%C3%A7%C3%B5es_b%C3%A1sicas_exerc%C3%ADcios.ipynb\" target=\"_parent\"><img src=\"https://colab.research.google.com/assets/colab-badge.svg\" alt=\"Open In Colab\"/></a>"
      ]
    },
    {
      "cell_type": "markdown",
      "metadata": {
        "id": "CmIi4oett0d-"
      },
      "source": [
        "# Vamos praticar um pouco?"
      ]
    },
    {
      "cell_type": "markdown",
      "metadata": {
        "id": "-Fn67UfEt5Zk"
      },
      "source": [
        "### Faça algumas operações matemáricas básicas com os operadores `+ - / *`\n"
      ]
    },
    {
      "cell_type": "code",
      "metadata": {
        "id": "0_Rj73A5sbE2",
        "outputId": "efd586e9-557e-4bf5-b411-042235ca8e6f",
        "colab": {
          "base_uri": "https://localhost:8080/"
        }
      },
      "source": [
        "5+4"
      ],
      "execution_count": 1,
      "outputs": [
        {
          "output_type": "execute_result",
          "data": {
            "text/plain": [
              "9"
            ]
          },
          "metadata": {},
          "execution_count": 1
        }
      ]
    },
    {
      "cell_type": "code",
      "metadata": {
        "id": "nk6v56wryQBQ"
      },
      "source": [
        "#@title  { display-mode: \"form\" }\n",
        "10+32\n",
        "50-8\n",
        "8/2\n",
        "5*5"
      ],
      "execution_count": null,
      "outputs": []
    },
    {
      "cell_type": "markdown",
      "metadata": {
        "id": "RI8pLcEWyhJv"
      },
      "source": [
        "### Eleve o número 8 ao quadrado com o operador `**`\n"
      ]
    },
    {
      "cell_type": "code",
      "metadata": {
        "id": "i5wnMB6fyw1V",
        "outputId": "b7fb653d-e0ca-4318-c24b-7353c16ecbb6",
        "colab": {
          "base_uri": "https://localhost:8080/"
        }
      },
      "source": [
        "8**2"
      ],
      "execution_count": 2,
      "outputs": [
        {
          "output_type": "execute_result",
          "data": {
            "text/plain": [
              "64"
            ]
          },
          "metadata": {},
          "execution_count": 2
        }
      ]
    },
    {
      "cell_type": "code",
      "metadata": {
        "id": "xmSc8wAZyx_E"
      },
      "source": [
        "#@title  { display-mode: \"form\" }\n",
        "8**2"
      ],
      "execution_count": null,
      "outputs": []
    },
    {
      "cell_type": "markdown",
      "metadata": {
        "id": "fmF-XasWzXXe"
      },
      "source": [
        "### Tire a raíz quadrada do número 64 com o operador `**`"
      ]
    },
    {
      "cell_type": "code",
      "metadata": {
        "id": "-9wc7Hn4zpVe"
      },
      "source": [
        "64**(2)"
      ],
      "execution_count": null,
      "outputs": []
    },
    {
      "cell_type": "code",
      "metadata": {
        "id": "peT5kMUjzqFB",
        "outputId": "817a2c1c-e917-423d-fac9-5d602a56d0f3",
        "colab": {
          "base_uri": "https://localhost:8080/"
        }
      },
      "source": [
        "#@title  { display-mode: \"form\" }\n",
        "64**0.5"
      ],
      "execution_count": 3,
      "outputs": [
        {
          "output_type": "execute_result",
          "data": {
            "text/plain": [
              "8.0"
            ]
          },
          "metadata": {},
          "execution_count": 3
        }
      ]
    },
    {
      "cell_type": "markdown",
      "metadata": {
        "id": "4b0GONcr11rk"
      },
      "source": [
        "### Mostre somente a parte inteira da divisão: 20 dividido por 3"
      ]
    },
    {
      "cell_type": "code",
      "metadata": {
        "id": "t1tb3NBf12Mq",
        "outputId": "56c9bccf-82b5-4c8b-ffa4-78f0b6d7f48c",
        "colab": {
          "base_uri": "https://localhost:8080/"
        }
      },
      "source": [
        "20//3"
      ],
      "execution_count": 4,
      "outputs": [
        {
          "output_type": "execute_result",
          "data": {
            "text/plain": [
              "6"
            ]
          },
          "metadata": {},
          "execution_count": 4
        }
      ]
    },
    {
      "cell_type": "code",
      "metadata": {
        "id": "tM_j4fHy12GE"
      },
      "source": [
        "#@title  { display-mode: \"form\" }\n",
        "20//3"
      ],
      "execution_count": null,
      "outputs": []
    },
    {
      "cell_type": "markdown",
      "metadata": {
        "id": "tvxuQcs02dmM"
      },
      "source": [
        "Mostre o resto da divisão: 20 dividido por 3"
      ]
    },
    {
      "cell_type": "code",
      "metadata": {
        "id": "HuOQVHAE2eGw",
        "outputId": "ba7888fa-dc70-4344-8f4c-53d3ee53fff5",
        "colab": {
          "base_uri": "https://localhost:8080/"
        }
      },
      "source": [
        "20 % 3"
      ],
      "execution_count": 5,
      "outputs": [
        {
          "output_type": "execute_result",
          "data": {
            "text/plain": [
              "2"
            ]
          },
          "metadata": {},
          "execution_count": 5
        }
      ]
    },
    {
      "cell_type": "code",
      "metadata": {
        "id": "L-aBb8162ejs"
      },
      "source": [
        "#@title  { display-mode: \"form\" }\n",
        "20%3"
      ],
      "execution_count": null,
      "outputs": []
    },
    {
      "cell_type": "markdown",
      "metadata": {
        "id": "rkflBYYxz4QK"
      },
      "source": [
        "### Guarde na variável `nome` o seu nome e na variável `idade` a sua idade"
      ]
    },
    {
      "cell_type": "code",
      "metadata": {
        "id": "6BJmkQIv0Ska"
      },
      "source": [
        "nome = \"Karen\"\n",
        "idade = 18"
      ],
      "execution_count": 7,
      "outputs": []
    },
    {
      "cell_type": "code",
      "metadata": {
        "id": "i5q24RZx0TzV"
      },
      "source": [
        "#@title  { display-mode: \"form\" }\n",
        "nome = \"Rogério\"\n",
        "idade = 35"
      ],
      "execution_count": null,
      "outputs": []
    },
    {
      "cell_type": "markdown",
      "metadata": {
        "id": "0PcF8qAU0e65"
      },
      "source": [
        "### Verifique e imprima qual o tipo das variáveis `nome` e `idade` com a função `type()`"
      ]
    },
    {
      "cell_type": "code",
      "metadata": {
        "id": "_CtnOC7E0l95",
        "outputId": "772145a3-2ab4-46b4-963e-3fba6ec0a614",
        "colab": {
          "base_uri": "https://localhost:8080/"
        }
      },
      "source": [
        "type(nome)"
      ],
      "execution_count": 10,
      "outputs": [
        {
          "output_type": "execute_result",
          "data": {
            "text/plain": [
              "str"
            ]
          },
          "metadata": {},
          "execution_count": 10
        }
      ]
    },
    {
      "cell_type": "code",
      "metadata": {
        "id": "aYlRFvML0mn7"
      },
      "source": [
        "#@title  { display-mode: \"form\" }\n",
        "print(type(nome))\n",
        "print(type(idade))"
      ],
      "execution_count": null,
      "outputs": []
    },
    {
      "cell_type": "markdown",
      "metadata": {
        "id": "67IMNSJN04VO"
      },
      "source": [
        "### Lembra do teorema de Pitágoras?\n",
        "<img src=\"https://upload.wikimedia.org/wikipedia/commons/thumb/6/6f/Rtriangle.svg/1024px-Rtriangle.svg.png\" width=\"350\">\n",
        "\n",
        "Basicamente, lembre que podemos descobrir o valor de um dos lados de um triângulo retângo com a seguinte fórmula `c²=a²+b²`\n",
        "\n",
        "Se o lado **a** tem **3cm** e o lado **b** tem **4cm**, quantos cm tem o lado **c**?"
      ]
    },
    {
      "cell_type": "code",
      "metadata": {
        "id": "V2Yj8PuD3TAI"
      },
      "source": [
        "c = (3**2+4**2)**2"
      ],
      "execution_count": 11,
      "outputs": []
    },
    {
      "cell_type": "code",
      "metadata": {
        "id": "kAlrJ36M3UOs",
        "outputId": "6a7de5f9-d518-4b60-e74d-ff28e3015af0",
        "colab": {
          "base_uri": "https://localhost:8080/"
        }
      },
      "source": [
        "#@title  { display-mode: \"form\" }\n",
        "a = 3\n",
        "b = 4\n",
        "c = (a**2+b**2)**0.5\n",
        "\n",
        "print(c)"
      ],
      "execution_count": 12,
      "outputs": [
        {
          "output_type": "stream",
          "name": "stdout",
          "text": [
            "5.0\n"
          ]
        }
      ]
    },
    {
      "cell_type": "markdown",
      "metadata": {
        "id": "JUsakOdv0sPL"
      },
      "source": [
        "### (Debugging) Encontre e corrija o erro do código abaixo"
      ]
    },
    {
      "cell_type": "code",
      "metadata": {
        "id": "x4kMoO-D00WC"
      },
      "source": [
        ""
      ],
      "execution_count": 12,
      "outputs": []
    },
    {
      "cell_type": "code",
      "metadata": {
        "id": "5FyCddjT1FFx"
      },
      "source": [
        ""
      ],
      "execution_count": null,
      "outputs": []
    }
  ]
}