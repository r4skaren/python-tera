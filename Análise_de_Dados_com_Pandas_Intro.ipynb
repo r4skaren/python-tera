{
  "nbformat": 4,
  "nbformat_minor": 0,
  "metadata": {
    "colab": {
      "name": "Análise de Dados com Pandas - Intro",
      "provenance": [],
      "collapsed_sections": [],
      "include_colab_link": true
    },
    "kernelspec": {
      "name": "python3",
      "display_name": "Python 3"
    },
    "language_info": {
      "name": "python"
    }
  },
  "cells": [
    {
      "cell_type": "markdown",
      "metadata": {
        "id": "view-in-github",
        "colab_type": "text"
      },
      "source": [
        "<a href=\"https://colab.research.google.com/github/r4skaren/python-tera/blob/main/An%C3%A1lise_de_Dados_com_Pandas_Intro.ipynb\" target=\"_parent\"><img src=\"https://colab.research.google.com/assets/colab-badge.svg\" alt=\"Open In Colab\"/></a>"
      ]
    },
    {
      "cell_type": "markdown",
      "metadata": {
        "id": "jjhyKUncAJhR"
      },
      "source": [
        "# Análise de Dados com Pandas - Intro\n",
        "\n",
        "\n",
        "\n",
        "**Pandas** é uma das bibliotecas mais populares para Data Science. Esta biblioteca tem bastante recurso para leitura, manipulação e visualização de dados.\n",
        "\n",
        "Utilizando a biblioteca **Pandas** você pode ler, extrair dados de arquivos, transformar e analisá-los."
      ]
    },
    {
      "cell_type": "markdown",
      "metadata": {
        "id": "QO8e4Yj2AZDc"
      },
      "source": [
        "## Importação de bibliotecas em Python"
      ]
    },
    {
      "cell_type": "markdown",
      "metadata": {
        "id": "n0n8Zbl5Ad93"
      },
      "source": [
        "Para utilizar a biblioteca **Pandas** você precisa importá-la em seu código Python. A importação de bibliotecas em Python é feita utilizando o comando `import`:\n",
        "\n",
        "```\n",
        "import pandas\n",
        "```\n",
        "\n",
        "Para facilitar a utilização desta biblioteca você pode criar uma versão encurtada do nome da biblioteca. Vocês vão observar que o nome `'pd'` é o mais utilizado:\n",
        "\n",
        "\n",
        "\n",
        "```\n",
        "import pandas as pd\n",
        "```\n",
        "\n",
        "\n"
      ]
    },
    {
      "cell_type": "markdown",
      "metadata": {
        "id": "ydvXIzsuAe_m"
      },
      "source": [
        "## Leitura de arquivos com a biblioteca Pandas\n"
      ]
    },
    {
      "cell_type": "markdown",
      "metadata": {
        "id": "UzQpPCqrArP0"
      },
      "source": [
        "A biblioteca Pandas é bastante utilizada para a leitura de arquivos com a extensão `.csv`. Estes arquivos são bastante utilizados para o armazenamento de dados.\n",
        "\n",
        "\n",
        "```\n",
        "import pandas as pd\n",
        "\n",
        "df = pd.read_csv(\"file.csv\")\n",
        "```\n",
        "\n"
      ]
    },
    {
      "cell_type": "code",
      "metadata": {
        "colab": {
          "base_uri": "https://localhost:8080/"
        },
        "id": "gQtc1TUovQ0D",
        "outputId": "91db8629-f933-4b69-c789-31ae71af2b52"
      },
      "source": [
        "import pandas as pd\n",
        " \n",
        "df = pd.read_csv(\"file.csv\")\n",
        "print(df)"
      ],
      "execution_count": null,
      "outputs": [
        {
          "output_type": "stream",
          "text": [
            "   idades  alturas\n",
            "0      10      165\n",
            "1      25      180\n",
            "2      24      176\n",
            "3      42      184\n"
          ],
          "name": "stdout"
        }
      ]
    },
    {
      "cell_type": "markdown",
      "metadata": {
        "id": "6xhHsrCWBDSe"
      },
      "source": [
        "## Estrutura de dados: DataFrame"
      ]
    },
    {
      "cell_type": "markdown",
      "metadata": {
        "id": "2Yhfh78pCV62"
      },
      "source": [
        "A estrutura de dados criada pela biblioteca `Pandas` para armazenamento e manipulação de dados tabulares se chama `DataFrame`. Estava estrutura de dados é composta de colunas e linhas. Cada **coluna** representa o que chamamos de uma **série de dados**. O exemplo a seguir contém duas série de dados ('idades' e 'alturas'), cada série contendo 4 valores.\n"
      ]
    },
    {
      "cell_type": "code",
      "metadata": {
        "id": "bH9cuAT1Apcp",
        "colab": {
          "base_uri": "https://localhost:8080/"
        },
        "outputId": "ea5e5a76-a21f-4912-86d1-5793d42afc43"
      },
      "source": [
        "import pandas as pd\n",
        " \n",
        "df = pd.read_csv(\"file.csv\")\n",
        "print(df)"
      ],
      "execution_count": null,
      "outputs": [
        {
          "output_type": "stream",
          "text": [
            "   idades  alturas\n",
            "0      10      165\n",
            "1      25      180\n",
            "2      24      176\n",
            "3      42      184\n"
          ],
          "name": "stdout"
        }
      ]
    },
    {
      "cell_type": "code",
      "metadata": {
        "colab": {
          "base_uri": "https://localhost:8080/"
        },
        "id": "CrVedyylwuAP",
        "outputId": "d372567b-7546-41db-c42b-77e30504b662"
      },
      "source": [
        "print(type(df))"
      ],
      "execution_count": null,
      "outputs": [
        {
          "output_type": "stream",
          "text": [
            "<class 'pandas.core.frame.DataFrame'>\n"
          ],
          "name": "stdout"
        }
      ]
    },
    {
      "cell_type": "markdown",
      "metadata": {
        "id": "aPmQJ6zssNDy"
      },
      "source": [
        "## Criação manual de um DataFrame"
      ]
    },
    {
      "cell_type": "markdown",
      "metadata": {
        "id": "2RAE96bysV-W"
      },
      "source": [
        "O DataFrame também pode ser obtido a partir de um dicionário em Python:\n",
        "\n",
        "\n",
        "```\n",
        "import pandas as pd\n",
        "\n",
        "data = {\n",
        "   'idades': [10, 25, 24, 42],\n",
        "   'alturas': [165, 180, 176, 184]\n",
        "} \n",
        "\n",
        "df = pd.DataFrame(data)\n",
        "```\n",
        "\n"
      ]
    },
    {
      "cell_type": "code",
      "metadata": {
        "colab": {
          "base_uri": "https://localhost:8080/",
          "height": 173
        },
        "id": "GAbJqqs3sWdy",
        "outputId": "0186ea6c-01fa-44be-826f-9e10efe1c272"
      },
      "source": [
        "import pandas as pd\n",
        " \n",
        "data = {\n",
        "   'idades': [10, 25, 24, 42],\n",
        "   'alturas': [165, 180, 176, 184]\n",
        "} \n",
        " \n",
        "df = pd.DataFrame(data)\n",
        "df"
      ],
      "execution_count": null,
      "outputs": [
        {
          "output_type": "execute_result",
          "data": {
            "text/html": [
              "<div>\n",
              "<style scoped>\n",
              "    .dataframe tbody tr th:only-of-type {\n",
              "        vertical-align: middle;\n",
              "    }\n",
              "\n",
              "    .dataframe tbody tr th {\n",
              "        vertical-align: top;\n",
              "    }\n",
              "\n",
              "    .dataframe thead th {\n",
              "        text-align: right;\n",
              "    }\n",
              "</style>\n",
              "<table border=\"1\" class=\"dataframe\">\n",
              "  <thead>\n",
              "    <tr style=\"text-align: right;\">\n",
              "      <th></th>\n",
              "      <th>idades</th>\n",
              "      <th>alturas</th>\n",
              "    </tr>\n",
              "  </thead>\n",
              "  <tbody>\n",
              "    <tr>\n",
              "      <th>0</th>\n",
              "      <td>10</td>\n",
              "      <td>165</td>\n",
              "    </tr>\n",
              "    <tr>\n",
              "      <th>1</th>\n",
              "      <td>25</td>\n",
              "      <td>180</td>\n",
              "    </tr>\n",
              "    <tr>\n",
              "      <th>2</th>\n",
              "      <td>24</td>\n",
              "      <td>176</td>\n",
              "    </tr>\n",
              "    <tr>\n",
              "      <th>3</th>\n",
              "      <td>42</td>\n",
              "      <td>184</td>\n",
              "    </tr>\n",
              "  </tbody>\n",
              "</table>\n",
              "</div>"
            ],
            "text/plain": [
              "   idades  alturas\n",
              "0      10      165\n",
              "1      25      180\n",
              "2      24      176\n",
              "3      42      184"
            ]
          },
          "metadata": {
            "tags": []
          },
          "execution_count": 9
        }
      ]
    },
    {
      "cell_type": "markdown",
      "metadata": {
        "id": "Ajn6f_G5CXdH"
      },
      "source": [
        "## Funções de resumo estatístico (média, mediana, etc)"
      ]
    },
    {
      "cell_type": "markdown",
      "metadata": {
        "id": "ZQqzJn9SCrdS"
      },
      "source": [
        "A biblioteca `Pandas` também nos permite calcular algumas **estatísticas** dos nossos dados, como:\n",
        "*   média;\n",
        "*   desvio padrão;\n",
        "*   soma;\n",
        "*   valor máximo;\n",
        "*   valor mínimo.\n",
        "\n"
      ]
    },
    {
      "cell_type": "markdown",
      "metadata": {
        "id": "5HPCRnoFyjfX"
      },
      "source": [
        "No exemplo a seguir vamos calcular o **valor médio das idades e das alturas** do DataFrame:\n",
        "\n",
        "```\n",
        "import pandas as pd\n",
        " \n",
        "data = {\n",
        "   'idades': [10, 25, 24, 42],\n",
        "   'alturas': [165, 180, 176, 184]\n",
        "} \n",
        " \n",
        "df = pd.DataFrame(data)\n",
        "print(df.mean())\n",
        "```"
      ]
    },
    {
      "cell_type": "code",
      "metadata": {
        "id": "LhyYX_FNCdxX",
        "colab": {
          "base_uri": "https://localhost:8080/"
        },
        "outputId": "3e96e0ce-9168-49fe-f255-83a49e6a6806"
      },
      "source": [
        "data = {\n",
        "   'idades': [10, 25, 24, 42],\n",
        "   'alturas': [165, 180, 176, 184]\n",
        "} \n",
        " \n",
        "df = pd.DataFrame(data)\n",
        "print(df.mean())"
      ],
      "execution_count": null,
      "outputs": [
        {
          "output_type": "stream",
          "text": [
            "idades      25.25\n",
            "alturas    176.25\n",
            "dtype: float64\n"
          ],
          "name": "stdout"
        }
      ]
    },
    {
      "cell_type": "markdown",
      "metadata": {
        "id": "yAFetwldy19r"
      },
      "source": [
        "As estatísticas também podem ser extraídas selecionando uma **série** específica do `DataFrame`. \n",
        "\n",
        "No exemplo a seguir vamos calcular os **valores máximos e mínimos somente das idades**\n",
        "\n",
        "\n",
        "\n",
        "```\n",
        "import pandas as pd\n",
        "\n",
        "data = {\n",
        "   'idades': [10, 25, 24, 42],\n",
        "   'alturas': [165, 180, 176, 184]\n",
        "} \n",
        " \n",
        "df = pd.DataFrame(data)\n",
        "\n",
        "print(\"Valor máximo das idades:\")\n",
        "print(df['idades'].max())\n",
        "\n",
        "print(\"Valor mínimo das idades:\")\n",
        "print(df['idades'].min())\n",
        "\n",
        "```\n"
      ]
    },
    {
      "cell_type": "code",
      "metadata": {
        "colab": {
          "base_uri": "https://localhost:8080/"
        },
        "id": "hye8nnGuzgCy",
        "outputId": "444a3bbb-304a-40f4-ff92-45f36cf5f25d"
      },
      "source": [
        "import pandas as pd\n",
        " \n",
        "data = {\n",
        "   'idades': [10, 25, 24, 42],\n",
        "   'alturas': [165, 180, 176, 184]\n",
        "} \n",
        " \n",
        "df = pd.DataFrame(data)\n",
        " \n",
        "print(\"Valor máximo das idades:\")\n",
        "print(df['idades'].max())\n",
        " \n",
        "print(\"Valor mínimo das idades:\")\n",
        "print(df['idades'].min())"
      ],
      "execution_count": null,
      "outputs": [
        {
          "output_type": "stream",
          "text": [
            "Valor máximo das idades:\n",
            "42\n",
            "Valor mínimo das idades:\n",
            "10\n"
          ],
          "name": "stdout"
        }
      ]
    },
    {
      "cell_type": "markdown",
      "metadata": {
        "id": "AaurgaD5DSMQ"
      },
      "source": [
        "## Filtragem de dados em DataFrames"
      ]
    },
    {
      "cell_type": "markdown",
      "metadata": {
        "id": "kbptXEwqDXRc"
      },
      "source": [
        "A estrutura de dados `DataFrame` nos permite utilizar condicionais para filtrar algumas linhas que sejam de nosso interesse. \n",
        "\n",
        "No exemplo a seguir nós vamos selecionar somente as linhas que contém idades maiores que 24:\n",
        "```\n",
        "import pandas as pd\n",
        " \n",
        "df = pd.read_csv(\"file.csv\")\n",
        "\n",
        "print(df[df['idades] > 24])\n",
        "```\n",
        "\n"
      ]
    },
    {
      "cell_type": "code",
      "metadata": {
        "colab": {
          "base_uri": "https://localhost:8080/"
        },
        "id": "DAnqEJle_74-",
        "outputId": "2bd9a079-549c-4d1e-adb5-7ad246375b9b"
      },
      "source": [
        "df['idades'] > 24"
      ],
      "execution_count": null,
      "outputs": [
        {
          "output_type": "execute_result",
          "data": {
            "text/plain": [
              "0    False\n",
              "1     True\n",
              "2    False\n",
              "3     True\n",
              "4     True\n",
              "5    False\n",
              "6    False\n",
              "7     True\n",
              "8     True\n",
              "Name: idades, dtype: bool"
            ]
          },
          "metadata": {
            "tags": []
          },
          "execution_count": 16
        }
      ]
    },
    {
      "cell_type": "code",
      "metadata": {
        "id": "TXf1hnPBDWsg",
        "colab": {
          "base_uri": "https://localhost:8080/",
          "height": 204
        },
        "outputId": "e24ea399-42c1-44b2-9378-b6b1feaa2636"
      },
      "source": [
        "df[df['idades'] > 24]"
      ],
      "execution_count": null,
      "outputs": [
        {
          "output_type": "execute_result",
          "data": {
            "text/html": [
              "<div>\n",
              "<style scoped>\n",
              "    .dataframe tbody tr th:only-of-type {\n",
              "        vertical-align: middle;\n",
              "    }\n",
              "\n",
              "    .dataframe tbody tr th {\n",
              "        vertical-align: top;\n",
              "    }\n",
              "\n",
              "    .dataframe thead th {\n",
              "        text-align: right;\n",
              "    }\n",
              "</style>\n",
              "<table border=\"1\" class=\"dataframe\">\n",
              "  <thead>\n",
              "    <tr style=\"text-align: right;\">\n",
              "      <th></th>\n",
              "      <th>idades</th>\n",
              "      <th>alturas</th>\n",
              "    </tr>\n",
              "  </thead>\n",
              "  <tbody>\n",
              "    <tr>\n",
              "      <th>1</th>\n",
              "      <td>25</td>\n",
              "      <td>180</td>\n",
              "    </tr>\n",
              "    <tr>\n",
              "      <th>3</th>\n",
              "      <td>42</td>\n",
              "      <td>184</td>\n",
              "    </tr>\n",
              "    <tr>\n",
              "      <th>4</th>\n",
              "      <td>50</td>\n",
              "      <td>160</td>\n",
              "    </tr>\n",
              "    <tr>\n",
              "      <th>7</th>\n",
              "      <td>37</td>\n",
              "      <td>167</td>\n",
              "    </tr>\n",
              "    <tr>\n",
              "      <th>8</th>\n",
              "      <td>88</td>\n",
              "      <td>158</td>\n",
              "    </tr>\n",
              "  </tbody>\n",
              "</table>\n",
              "</div>"
            ],
            "text/plain": [
              "   idades  alturas\n",
              "1      25      180\n",
              "3      42      184\n",
              "4      50      160\n",
              "7      37      167\n",
              "8      88      158"
            ]
          },
          "metadata": {
            "tags": []
          },
          "execution_count": 18
        }
      ]
    },
    {
      "cell_type": "markdown",
      "metadata": {
        "id": "uptgfIqxCk6H"
      },
      "source": [
        "## Visualização de histogramas com Pandas"
      ]
    },
    {
      "cell_type": "markdown",
      "metadata": {
        "id": "nwCos_6wCrGN"
      },
      "source": [
        "A biblioteca Pandas também nos permite utilizar alguns recursos de **visualização de dados**. Esta é uma etapa bastante importante para Data Science. Uma das visualizações que pode ser bastante útil em um processo de **análise exploratória** de dados é o **Histograma**. Histogramas são gráficos que nos apresentam a frequência na qual determinada informação aparece em um conjunto de dados. O **eixo horizontal** representa a informação que queremos avaliar ('idades' ou 'alturas') e o **eixo vertical** representa a frequência na qual esta informação aparece no `DataFrame`.\n",
        "\n",
        "No exemplo a seguir estamos visualizando os **Histogramas** das idades e das alturas utilizando a função `hist()`:\n",
        "```\n",
        "import pandas as pd\n",
        " \n",
        "data = {\n",
        "   'idades': [10, 25, 24, 42, 50, 12, 22, 37, 88],\n",
        "   'alturas': [165, 180, 176, 184, 160, 155, 170, 167, 158]\n",
        "} \n",
        " \n",
        "df = pd.DataFrame(data)\n",
        "\n",
        "_ = df.hist(bins=5)\n",
        "```\n",
        "\n"
      ]
    },
    {
      "cell_type": "code",
      "metadata": {
        "id": "tZLl_GabCqZo",
        "colab": {
          "base_uri": "https://localhost:8080/",
          "height": 281
        },
        "outputId": "d435dba2-af0c-4673-e826-25b685aa6fbf"
      },
      "source": [
        "import pandas as pd\n",
        " \n",
        "data = {\n",
        "   'idades': [10, 25, 24, 42, 50, 12, 22, 37, 88],\n",
        "   'alturas': [165, 180, 176, 184, 160, 155, 170, 167, 158]\n",
        "} \n",
        " \n",
        "df = pd.DataFrame(data)\n",
        "\n",
        "_ = df.hist(bins=5)"
      ],
      "execution_count": null,
      "outputs": [
        {
          "output_type": "display_data",
          "data": {
            "image/png": "[encoded data removed]",
            "text/plain": [
              "<Figure size 432x288 with 2 Axes>"
            ]
          },
          "metadata": {
            "tags": [],
            "needs_background": "light"
          }
        }
      ]
    },
    {
      "cell_type": "markdown",
      "metadata": {
        "id": "9eF6wB9Q2egH"
      },
      "source": [
        "A visualização dos Histogramas pode ser feita para uma série de dados específica dentro de um DataFrame. Para fazer isso basta selecionar uma série de dados:\n",
        "\n",
        "```\n",
        "import pandas as pd\n",
        " \n",
        "data = {\n",
        "   'idades': [10, 25, 24, 42, 50, 12, 22, 37, 88],\n",
        "   'alturas': [165, 180, 176, 184, 160, 155, 170, 167, 158]\n",
        "} \n",
        " \n",
        "df = pd.DataFrame(data)\n",
        "\n",
        "_ = df['idades'].hist(bins=5)\n",
        "```\n"
      ]
    },
    {
      "cell_type": "code",
      "metadata": {
        "colab": {
          "base_uri": "https://localhost:8080/",
          "height": 265
        },
        "id": "T821c8Pl28Y-",
        "outputId": "531968eb-2586-4164-b335-c1cacbe3020c"
      },
      "source": [
        "import pandas as pd\n",
        " \n",
        "data = {\n",
        "   'idades': [10, 25, 24, 42, 50, 12, 22, 37, 88],\n",
        "   'alturas': [165, 180, 176, 184, 160, 155, 170, 167, 158]\n",
        "} \n",
        " \n",
        "df = pd.DataFrame(data)\n",
        "\n",
        "_ = df['alturas'].hist(bins=5)"
      ],
      "execution_count": null,
      "outputs": [
        {
          "output_type": "display_data",
          "data": {
            "image/png": "[encoded data removed]",
            "text/plain": [
              "<Figure size 432x288 with 1 Axes>"
            ]
          },
          "metadata": {
            "tags": [],
            "needs_background": "light"
          }
        }
      ]
    },
    {
      "cell_type": "code",
      "metadata": {
        "id": "x1LosqArC1Le"
      },
      "source": [
        ""
      ],
      "execution_count": null,
      "outputs": []
    }
  ]
}