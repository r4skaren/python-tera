{
  "nbformat": 4,
  "nbformat_minor": 0,
  "metadata": {
    "kernelspec": {
      "display_name": "Python 3",
      "language": "python",
      "name": "python3"
    },
    "language_info": {
      "codemirror_mode": {
        "name": "ipython",
        "version": 3
      },
      "file_extension": ".py",
      "mimetype": "text/x-python",
      "name": "python",
      "nbconvert_exporter": "python",
      "pygments_lexer": "ipython3",
      "version": "3.8.5"
    },
    "colab": {
      "name": "Estruturas Condicionais Python",
      "provenance": [],
      "include_colab_link": true
    }
  },
  "cells": [
    {
      "cell_type": "markdown",
      "metadata": {
        "id": "view-in-github",
        "colab_type": "text"
      },
      "source": [
        "<a href=\"https://colab.research.google.com/github/r4skaren/python-tera/blob/main/Estruturas_Condicionais_Python.ipynb\" target=\"_parent\"><img src=\"https://colab.research.google.com/assets/colab-badge.svg\" alt=\"Open In Colab\"/></a>"
      ]
    },
    {
      "cell_type": "markdown",
      "metadata": {
        "id": "1BJ4iHcLQEGR"
      },
      "source": [
        "# Estruturas condicionais em Python"
      ]
    },
    {
      "cell_type": "markdown",
      "metadata": {
        "id": "x0qP-gObQEGS"
      },
      "source": [
        "### O que é uma condição em programação?"
      ]
    },
    {
      "cell_type": "markdown",
      "metadata": {
        "id": "Stqv9VY5QEGT"
      },
      "source": [
        "Em programação, uma `estrutura condicional` significa um código cuja resposta **depende** de uma determinada condição (ou entrada)"
      ]
    },
    {
      "cell_type": "code",
      "metadata": {
        "id": "noVvTYd0QEGU",
        "outputId": "79cdd1d0-4438-465d-fd5a-db69a37216dd"
      },
      "source": [
        "print(\"Situação:\")\n",
        "print(\"Se fizer sol amanhã, farei um churrasco. Caso contrario, não farei\")"
      ],
      "execution_count": null,
      "outputs": [
        {
          "output_type": "stream",
          "text": [
            "Situação:\n",
            "Se fizer sol amanhã, farei um churrasco. Caso contrario, não farei\n"
          ],
          "name": "stdout"
        }
      ]
    },
    {
      "cell_type": "markdown",
      "metadata": {
        "id": "PwaZePkMQEGX"
      },
      "source": [
        "Neste caso, o resultado da nossa ação depende de uma informação! Isso significa que nosso código pode seguir **dois caminhos diferentes**"
      ]
    },
    {
      "cell_type": "code",
      "metadata": {
        "id": "UgxlalV6QEGa",
        "outputId": "4529ee9a-9e88-48b9-ae60-b07cc2d23f6d"
      },
      "source": [
        "print(\"Fez sol? Não\")\n",
        "resultado = \"Não fiz churrasco\"\n",
        "print(\"Resultado\")\n",
        "print(resultado)"
      ],
      "execution_count": null,
      "outputs": [
        {
          "output_type": "stream",
          "text": [
            "Fez sol? Não\n",
            "Resultado\n",
            "Não fiz churrasco\n"
          ],
          "name": "stdout"
        }
      ]
    },
    {
      "cell_type": "code",
      "metadata": {
        "id": "Xcj14Fz_QEGb",
        "outputId": "0f8f7a7a-4fc8-4816-87d3-e004059e6826"
      },
      "source": [
        "print(\"Fez sol? Sim\")\n",
        "resultado = \"Fiz churrasco\"\n",
        "print(\"Resultado\")\n",
        "print(resultado)"
      ],
      "execution_count": null,
      "outputs": [
        {
          "output_type": "stream",
          "text": [
            "Fez sol? Sim\n",
            "Resultado\n",
            "Fiz churrasco\n"
          ],
          "name": "stdout"
        }
      ]
    },
    {
      "cell_type": "markdown",
      "metadata": {
        "id": "K7usaKn3QEGc"
      },
      "source": [
        "### Como representar uma condição em Python?"
      ]
    },
    {
      "cell_type": "markdown",
      "metadata": {
        "id": "uCLY2kbuQEGd"
      },
      "source": [
        "Voltando para nossa condição em texto, há uma palavra importante nessa frase condicional: a palavra **se**! \n",
        "\n",
        "Em Python (e muitas outras linguagens de programação), o **se** condicional é representado pela palavra em inglês, `if`"
      ]
    },
    {
      "cell_type": "code",
      "metadata": {
        "id": "znNpISrtQEGe"
      },
      "source": [
        "# Definindo o tempo\n",
        "tempo = \"Sol\""
      ],
      "execution_count": null,
      "outputs": []
    },
    {
      "cell_type": "code",
      "metadata": {
        "id": "ogy4hLX9QEGf",
        "outputId": "2e0913ef-d4a6-4ed1-e31d-ce857b26b745"
      },
      "source": [
        "# Fazendo a condição\n",
        "if tempo==\"Sol\":\n",
        "    print(\"Fiz churrasco\")"
      ],
      "execution_count": null,
      "outputs": [
        {
          "output_type": "stream",
          "text": [
            "Fiz churrasco\n"
          ],
          "name": "stdout"
        }
      ]
    },
    {
      "cell_type": "markdown",
      "metadata": {
        "id": "Ojeu-WlEQEGg"
      },
      "source": [
        "Na expressão acima, temos alguns detalhes importantes:\n",
        "* Para igualar uma variável a um valor, usamos dois sinais de igual (==)\n",
        "* O resultado da condição tem um espaço/tabulação à direita!\n",
        "\n",
        "Se tentarmos escrever a condição sem essa tabulação, encontraremos um erro:"
      ]
    },
    {
      "cell_type": "code",
      "metadata": {
        "id": "BEdYS6KSQEGg",
        "outputId": "66792a9d-e4e9-4d55-d7c4-90cf2a2d68c4"
      },
      "source": [
        "# Fazendo a condição\n",
        "if tempo==\"Sol\":\n",
        "    print(\"Fiz churrasco\")"
      ],
      "execution_count": null,
      "outputs": [
        {
          "output_type": "stream",
          "text": [
            "Fiz churrasco\n"
          ],
          "name": "stdout"
        }
      ]
    },
    {
      "cell_type": "markdown",
      "metadata": {
        "id": "xp4tBM0YQEGh"
      },
      "source": [
        "Ou seja, a **indentação/tabulação** faz parte da linguagem Python, e significa que estamos dentro de um bloco ou caminho de programação"
      ]
    },
    {
      "cell_type": "code",
      "metadata": {
        "id": "uB9kf7HuQEGh",
        "outputId": "4f220786-ed80-418f-ccda-236388b732ee"
      },
      "source": [
        "if tempo==\"Sol\":\n",
        "    print(\"Fiz Churrasco\")\n",
        "    print(\"Ficou muito gostoso\")"
      ],
      "execution_count": null,
      "outputs": [
        {
          "output_type": "stream",
          "text": [
            "Fiz Churrasco\n",
            "Ficou muito gostoso\n"
          ],
          "name": "stdout"
        }
      ]
    },
    {
      "cell_type": "markdown",
      "metadata": {
        "id": "zCPlxl4bQEGi"
      },
      "source": [
        "Isso significa que todos os comandos com tabulação estarão no caminho do código **se a condição `(if)` for verdadeira**"
      ]
    },
    {
      "cell_type": "code",
      "metadata": {
        "id": "YFpWr_inQEGi",
        "outputId": "b40bfabd-58cb-4834-d9d5-473075643606"
      },
      "source": [
        "if tempo==\"Sol\":\n",
        "    print(\"Fiz churrasco\")\n",
        "    print(\"Ficou muito gostoso\")\n",
        "print(\"Independente do tempo, comi pudim\")"
      ],
      "execution_count": null,
      "outputs": [
        {
          "output_type": "stream",
          "text": [
            "Fiz churrasco\n",
            "Ficou muito gostoso\n",
            "Independente do tempo, comi pudim\n"
          ],
          "name": "stdout"
        }
      ]
    },
    {
      "cell_type": "code",
      "metadata": {
        "id": "28u3A_U3QEGi",
        "outputId": "7ae26483-e4eb-410f-9a7a-0f98bf613139"
      },
      "source": [
        "# Agora mudando a situação do tempo\n",
        "tempo = \"Chuva\"\n",
        "if tempo==\"Sol\":\n",
        "    print(\"Fiz churrasco\")\n",
        "    print(\"Ficou muito gostoso\")\n",
        "print(\"Independente do tempo, comi pudim\")"
      ],
      "execution_count": null,
      "outputs": [
        {
          "output_type": "stream",
          "text": [
            "Independente do tempo, comi pudim\n"
          ],
          "name": "stdout"
        }
      ]
    },
    {
      "cell_type": "markdown",
      "metadata": {
        "id": "RGc_ANcbQEGj"
      },
      "source": [
        "### Se o `se` é o `if`, o que seria o `caso contrário` em Python?"
      ]
    },
    {
      "cell_type": "markdown",
      "metadata": {
        "id": "tRBiM2IVQEGj"
      },
      "source": [
        "Assim como a condição é representada em Python pela palavra `if`, também podemos incluir em uma estrutura condicional o **segundo caminho** da programação, que seria no caso da condição não ser satisfeita\n",
        "\n",
        "Essa condição é representada pelo inglês de \"caso contrário\", `else`:"
      ]
    },
    {
      "cell_type": "code",
      "metadata": {
        "id": "qWFXiABNQEGk",
        "outputId": "d6201381-8a06-4537-b833-d44ac05d9813"
      },
      "source": [
        "# Definindo a situação do tempo\n",
        "tempo = \"Sol\"\n",
        "\n",
        "# Escrevendo a condição completa, incluindo o que fazer caso a condição não seja satisfeita\n",
        "if tempo==\"Sol\":\n",
        "    print(\"Fiz um churrasco\")\n",
        "else:\n",
        "    print(\"Tomei sopa\")"
      ],
      "execution_count": null,
      "outputs": [
        {
          "output_type": "stream",
          "text": [
            "Fiz um churrasco\n"
          ],
          "name": "stdout"
        }
      ]
    },
    {
      "cell_type": "markdown",
      "metadata": {
        "id": "yyHz-cbfQEGk"
      },
      "source": [
        "O fato da palavra `else` não estar tabulada indica que ela está **fora do primeiro caminho da programação**. Ou seja, se a condição inicial (Sol) não for satisfeita, o código irá 'pular' o primeiro caminho e irá para a linha `else`, onde outro bloco de programação foi feito"
      ]
    },
    {
      "cell_type": "code",
      "metadata": {
        "id": "rjIzI9bCQEGl",
        "outputId": "a44198be-0eb5-4dd3-9377-47d8440d7057"
      },
      "source": [
        "# Definindo a situação do tempo\n",
        "tempo = \"Chuva\"\n",
        "\n",
        "# Escrevendo a condição completa, incluindo o que fazer caso a condição não seja satisfeita\n",
        "if tempo==\"Sol\":\n",
        "    print(\"Fiz um churrasco\")\n",
        "else:\n",
        "    print(\"Tomei sopa\")"
      ],
      "execution_count": null,
      "outputs": [
        {
          "output_type": "stream",
          "text": [
            "Tomei sopa\n"
          ],
          "name": "stdout"
        }
      ]
    },
    {
      "cell_type": "markdown",
      "metadata": {
        "id": "PRXNK_GmQEGm"
      },
      "source": [
        "Da mesma forma, o que estiver fora dos blocos da estrutura condicional serão processados independente do resultado"
      ]
    },
    {
      "cell_type": "code",
      "metadata": {
        "id": "FZIvw4ALQEGn",
        "outputId": "8b94acec-2404-4609-c87c-a141442830d8"
      },
      "source": [
        "# Definindo a situação do tempo\n",
        "tempo = \"Chuva\"\n",
        "\n",
        "# Escrevendo a condição completa, incluindo o que fazer caso a condição não seja satisfeita\n",
        "if tempo==\"Sol\":\n",
        "    print(\"Fiz um churrasco\")\n",
        "else:\n",
        "    print(\"Tomei sopa\")\n",
        "print(\"Independente do tempo, comi pudim\")"
      ],
      "execution_count": null,
      "outputs": [
        {
          "output_type": "stream",
          "text": [
            "Tomei sopa\n",
            "Independente do tempo, comi pudim\n"
          ],
          "name": "stdout"
        }
      ]
    },
    {
      "cell_type": "markdown",
      "metadata": {
        "id": "4C8D9wsqQEGo"
      },
      "source": [
        "### Encadeando múltiplas condições em Python"
      ]
    },
    {
      "cell_type": "markdown",
      "metadata": {
        "id": "jBb-UWThQEGp"
      },
      "source": [
        "Se quisermos, também podemos colocar múltiplas condições, colocando em uma mesma estrutura condicional mais do que dois caminhos possíveis"
      ]
    },
    {
      "cell_type": "code",
      "metadata": {
        "id": "6VJZYGNfQEGp",
        "outputId": "9cc1e767-a038-47e4-f824-c44e273d7025"
      },
      "source": [
        "tempo = \"Chuva\"\n",
        "\n",
        "if tempo==\"Sol\":\n",
        "    print(\"Fiz churrasco\")\n",
        "else:\n",
        "    if tempo==\"Chuva\":\n",
        "        print(\"Não fiz churrasco\")\n",
        "    else:\n",
        "        print(\"Nem almocei, fiquei sem fome\")"
      ],
      "execution_count": null,
      "outputs": [
        {
          "output_type": "stream",
          "text": [
            "Não fiz churrasco\n"
          ],
          "name": "stdout"
        }
      ]
    },
    {
      "cell_type": "markdown",
      "metadata": {
        "id": "NSQ1cIH9QEGq"
      },
      "source": [
        "No caso acima, na segunda condição iniciamos um **segundo bloco de condições**, de forma que temos agora três resultados possíveis na mesma estrutura condicional"
      ]
    },
    {
      "cell_type": "code",
      "metadata": {
        "id": "yOlPzvXvQEGq",
        "outputId": "af2efcf3-a702-4a55-e6e4-13189b56f48e"
      },
      "source": [
        "tempo = \"Sol\"\n",
        "\n",
        "if tempo==\"Sol\":\n",
        "    print(\"Fiz churrasco\")\n",
        "else:\n",
        "    if tempo==\"Chuva\":\n",
        "        print(\"Não fiz churrasco\")\n",
        "    else:\n",
        "        print(\"Nem almocei, fiquei sem fome\")"
      ],
      "execution_count": null,
      "outputs": [
        {
          "output_type": "stream",
          "text": [
            "Fiz churrasco\n"
          ],
          "name": "stdout"
        }
      ]
    },
    {
      "cell_type": "code",
      "metadata": {
        "id": "yWJRYIudQEGr",
        "outputId": "b9fb66e3-4dc1-450d-a7f6-fa89199f5b57"
      },
      "source": [
        "tempo = \"Nublado\"\n",
        "\n",
        "if tempo==\"Sol\":\n",
        "    print(\"Fiz churrasco\")\n",
        "else:\n",
        "    if tempo==\"Chuva\":\n",
        "        print(\"Não fiz churrasco\")\n",
        "    else:\n",
        "        print(\"Nem almocei, fiquei sem fome\")"
      ],
      "execution_count": null,
      "outputs": [
        {
          "output_type": "stream",
          "text": [
            "Nem almocei, fiquei sem fome\n"
          ],
          "name": "stdout"
        }
      ]
    },
    {
      "cell_type": "markdown",
      "metadata": {
        "id": "wsrZfckrQEGr"
      },
      "source": [
        "Se começarmos a ter muitas condições, o código pode ficar bem complicado!"
      ]
    },
    {
      "cell_type": "code",
      "metadata": {
        "id": "pvk4F6O0QEGr",
        "outputId": "f9f72422-4a8d-412c-a5c0-e963c2922a1d"
      },
      "source": [
        "tempo = \"Qualquer coisa\"\n",
        "\n",
        "if tempo==\"Sol\":\n",
        "    print(\"Fiz churrasco\")\n",
        "else:\n",
        "    if tempo==\"Chuva\":\n",
        "        print(\"Não fiz churrasco\")\n",
        "    else:\n",
        "        if tempo==\"Nublado\":\n",
        "            print(\"Nem almocei, fiquei sem fome\")\n",
        "        else:\n",
        "            if tempo==\"Neve\":\n",
        "                print(\"Comi fondue\")\n",
        "            else:\n",
        "                print(\"Pedi um delivery\")"
      ],
      "execution_count": null,
      "outputs": [
        {
          "output_type": "stream",
          "text": [
            "Pedi um delivery\n"
          ],
          "name": "stdout"
        }
      ]
    },
    {
      "cell_type": "markdown",
      "metadata": {
        "id": "TtLg-ci4QEGs"
      },
      "source": [
        "Para nossa sorte, em Python temos uma palavra especial para um `else` seguido de um `if`: o `elif`! Com ele, nosso código acima fica mais simples:"
      ]
    },
    {
      "cell_type": "code",
      "metadata": {
        "id": "5bFPehY2QEGt",
        "outputId": "9d4c9aa1-940f-46ac-a3ce-fa2d828d7ba0"
      },
      "source": [
        "tempo = \"Nublado\"\n",
        "\n",
        "if tempo==\"Sol\":\n",
        "    print(\"Fiz churrasco\")\n",
        "elif tempo==\"Chuva\":\n",
        "    print(\"Não fiz churrasco\")\n",
        "elif tempo==\"Nublado\":\n",
        "    print(\"Nem almocei, fiquei sem fome\")\n",
        "elif tempo==\"Neve\":\n",
        "    print(\"Comi fondue\")\n",
        "else:\n",
        "    print(\"Pedi delivery\")"
      ],
      "execution_count": null,
      "outputs": [
        {
          "output_type": "stream",
          "text": [
            "Nem almocei, fiquei sem fome\n"
          ],
          "name": "stdout"
        }
      ]
    },
    {
      "cell_type": "markdown",
      "metadata": {
        "id": "kziL6NB_QEGt"
      },
      "source": [
        "Em todos os casos, nunca podemos esquecer a regra da **identação** em Python!"
      ]
    }
  ]
}